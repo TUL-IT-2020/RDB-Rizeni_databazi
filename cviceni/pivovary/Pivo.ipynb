{
    "metadata": {
        "kernelspec": {
            "name": "SQL",
            "display_name": "SQL",
            "language": "sql"
        },
        "language_info": {
            "name": "sql",
            "version": ""
        }
    },
    "nbformat_minor": 2,
    "nbformat": 4,
    "cells": [
        {
            "cell_type": "markdown",
            "source": [
                "# Dotazy do databáze Pivo\n",
                "## Pivo - zadání SQL\n",
                "1. Vypište názvy hospod, které neodebírají žádné pivo od pivovaru Svijany. Do výsledku zahrňte i hospody, které vůbec neodebírají pivo.\n",
                "2. Vypište názvy pivovarů, které nedodávají pivo do žádné hospody s názvem Formanka.      \n",
                "3. Vypište názvy pivovarů, které dodávají pivo do tří a více hospod (nazev, pocet).\n",
                "4. Vypište názvy hospod, do kterých dodává dva a více pivovarů (nazev, pocet).\n",
                "5. Vypište jména piv, jejichž výroba se v určitém pivovaru (pivo stejného jména se ve stejném pivovaru vyrábělo/vyrábí v různá časová období, tedy více než jednou).  \n",
                "6. Vypište dvojice názvů (pivo_1, pivo_2) podobných piv. Podobná piva mají stejný obsah alkoholu a stejnou hořkost. Pokud jsou však zároveň ze stejného pivovaru a jmenují se stejně, ve výpisu nebudou.\n",
                "7. Vypište názvy hospod, do nichž dodává pivo pouze pivovar Svijany.\n",
                "8. Vypište názvy hospod, do nichž dodává pivo zároveň pivovar Svijany i Plzeňský Prazdroj.\n",
                "9. Vypište jména piv, které čepuje pouze jedna hospoda. \n",
                "10. Vypište jména piv, které neodebírají hospody s názvem Formanka.\n",
                "11. Vypište názvy hospod, které nečepují piva se jménem 'Pilsner Urquell'.\n",
                "12. Vypište pro jednotlivé hospody taková jména piv, z jejichž prodeje má hospoda maximální zisk (hospoda, pivo, zisk). POZOR: Název hospody není unikátní! Piv s maximálním ziskem (prodejni_cena – kupni_cena) může být v hospodě více!  \n",
                "13. Vypište pro jednotlivá odebíraná piva takové hospody, které z jejich prodeje mají největší zisk (pivo, hospoda, zisk). POZOR: Název piva není unikátní! Hospod s maximálním ziskem z daného piva (prodejni_cena – kupni_cena) může být více!\n",
                "14. Vypište názvy pivovarů a u každého uveďte počet hospod, které od nich odebírají pivo (nazev, pocet). Do výpisu zahrňte i ty pivovary, od nichž neodebírá pivo žádná hospoda (0 nebo NULL ve výpisu).\n",
                "15. Vypište názvy hospod a u každé uveďte počet pivovarů, které do nich dodávají pivo (nazev, pocet). Do výpisu zahrňte i ty hospody, které pivo nečepují (0 nebo NULL ve výpisu).\n",
                "16. Vypište průměrné prodejní ceny piv v libereckých hospodách (adresa LIKE '%Liberec%'), které čepují alespoň 2 různá piva (nazev, prumerna_cena). POZOR: Název hospody není unikátní!\n",
                "17. Vypište průměrné kupní ceny piv v libereckých hospodách (adresa LIKE '%Liberec%'), které jsou dodávány alespoň do 2 různých hospod (jmeno, prumerna_cena). POZOR: Jméno piva není unikátní!  \n",
                "18. Vypište názvy hospod, ve kterých čepují jedno a více piv od pivovaru Svijany. POZOR: Název hospody není unikátní!  \n",
                "19. Vypište názvy hospod, kde nečepují pivo Pilsner Urquell, ale čepují jakékoli pivo od pivovaru Svijany.\n",
                "20. Vypište názvy piv, která nečepují v hospodě U Medvěda, ale čepují v hospodě U Kalicha.\n",
                "## Podíváme se co se schovává v tabulce Pivo:"
            ],
            "metadata": {
                "language": "sql",
                "azdata_cell_guid": "2ca81cbb-b75b-4a21-8209-0e200da3462a"
            },
            "attachments": {}
        },
        {
            "cell_type": "code",
            "source": [
                "SELECT * FROM [Pivo]"
            ],
            "metadata": {
                "azdata_cell_guid": "6fde51fd-9a19-4b34-a41e-d754688d05d0",
                "language": "sql"
            },
            "outputs": [
                {
                    "output_type": "display_data",
                    "data": {
                        "text/html": "(11 rows affected)"
                    },
                    "metadata": {}
                },
                {
                    "output_type": "display_data",
                    "data": {
                        "text/html": "Total execution time: 00:00:00.091"
                    },
                    "metadata": {}
                },
                {
                    "output_type": "execute_result",
                    "metadata": {},
                    "execution_count": 3,
                    "data": {
                        "application/vnd.dataresource+json": {
                            "schema": {
                                "fields": [
                                    {
                                        "name": "id_pivo"
                                    },
                                    {
                                        "name": "id_pivovar"
                                    },
                                    {
                                        "name": "jmeno"
                                    },
                                    {
                                        "name": "alkohol"
                                    },
                                    {
                                        "name": "horkost"
                                    },
                                    {
                                        "name": "vyroba_od"
                                    },
                                    {
                                        "name": "vyroba_do"
                                    }
                                ]
                            },
                            "data": [
                                {
                                    "id_pivo": "1",
                                    "id_pivovar": "1",
                                    "jmeno": "Svijansk? Kn?e",
                                    "alkohol": "4,5",
                                    "horkost": "20",
                                    "vyroba_od": "2000-10-10 00:00:00.000",
                                    "vyroba_do": "NULL"
                                },
                                {
                                    "id_pivo": "2",
                                    "id_pivovar": "1",
                                    "jmeno": "Svijansk? Kn?na",
                                    "alkohol": "4,7",
                                    "horkost": "15",
                                    "vyroba_od": "2000-10-20 00:00:00.000",
                                    "vyroba_do": "NULL"
                                },
                                {
                                    "id_pivo": "3",
                                    "id_pivovar": "1",
                                    "jmeno": "Svijansk? Vozka",
                                    "alkohol": "0",
                                    "horkost": "10",
                                    "vyroba_od": "2020-10-10 00:00:00.000",
                                    "vyroba_do": "NULL"
                                },
                                {
                                    "id_pivo": "4",
                                    "id_pivovar": "2",
                                    "jmeno": "Pilsner Urquell",
                                    "alkohol": "4,2",
                                    "horkost": "10",
                                    "vyroba_od": "1900-10-10 00:00:00.000",
                                    "vyroba_do": "NULL"
                                },
                                {
                                    "id_pivo": "5",
                                    "id_pivovar": "2",
                                    "jmeno": "Gambrinus 10",
                                    "alkohol": "4",
                                    "horkost": "8",
                                    "vyroba_od": "1980-10-20 00:00:00.000",
                                    "vyroba_do": "NULL"
                                },
                                {
                                    "id_pivo": "6",
                                    "id_pivovar": "3",
                                    "jmeno": "Des?tka",
                                    "alkohol": "4,2",
                                    "horkost": "10",
                                    "vyroba_od": "1999-10-10 00:00:00.000",
                                    "vyroba_do": "NULL"
                                },
                                {
                                    "id_pivo": "7",
                                    "id_pivovar": "4",
                                    "jmeno": "Des?tka",
                                    "alkohol": "4",
                                    "horkost": "8",
                                    "vyroba_od": "1989-10-20 00:00:00.000",
                                    "vyroba_do": "1999-10-09 00:00:00.000"
                                },
                                {
                                    "id_pivo": "8",
                                    "id_pivovar": "3",
                                    "jmeno": "Des?tka",
                                    "alkohol": "4,25",
                                    "horkost": "11",
                                    "vyroba_od": "1966-10-10 00:00:00.000",
                                    "vyroba_do": "NULL"
                                },
                                {
                                    "id_pivo": "9",
                                    "id_pivovar": "1",
                                    "jmeno": "Baron",
                                    "alkohol": "6,5",
                                    "horkost": "15",
                                    "vyroba_od": "2010-11-11 00:00:00.000",
                                    "vyroba_do": "2010-12-11 00:00:00.000"
                                },
                                {
                                    "id_pivo": "10",
                                    "id_pivovar": "1",
                                    "jmeno": "Baron",
                                    "alkohol": "6,5",
                                    "horkost": "15",
                                    "vyroba_od": "2020-11-11 00:00:00.000",
                                    "vyroba_do": "2020-12-11 00:00:00.000"
                                },
                                {
                                    "id_pivo": "11",
                                    "id_pivovar": "1",
                                    "jmeno": "Svijansk? M?z",
                                    "alkohol": "4,5",
                                    "horkost": "22",
                                    "vyroba_od": "2019-10-10 00:00:00.000",
                                    "vyroba_do": "NULL"
                                }
                            ]
                        },
                        "text/html": [
                            "<table>",
                            "<tr><th>id_pivo</th><th>id_pivovar</th><th>jmeno</th><th>alkohol</th><th>horkost</th><th>vyroba_od</th><th>vyroba_do</th></tr>",
                            "<tr><td>1</td><td>1</td><td>Svijansk? Kn?e</td><td>4,5</td><td>20</td><td>2000-10-10 00:00:00.000</td><td>NULL</td></tr>",
                            "<tr><td>2</td><td>1</td><td>Svijansk? Kn?na</td><td>4,7</td><td>15</td><td>2000-10-20 00:00:00.000</td><td>NULL</td></tr>",
                            "<tr><td>3</td><td>1</td><td>Svijansk? Vozka</td><td>0</td><td>10</td><td>2020-10-10 00:00:00.000</td><td>NULL</td></tr>",
                            "<tr><td>4</td><td>2</td><td>Pilsner Urquell</td><td>4,2</td><td>10</td><td>1900-10-10 00:00:00.000</td><td>NULL</td></tr>",
                            "<tr><td>5</td><td>2</td><td>Gambrinus 10</td><td>4</td><td>8</td><td>1980-10-20 00:00:00.000</td><td>NULL</td></tr>",
                            "<tr><td>6</td><td>3</td><td>Des?tka</td><td>4,2</td><td>10</td><td>1999-10-10 00:00:00.000</td><td>NULL</td></tr>",
                            "<tr><td>7</td><td>4</td><td>Des?tka</td><td>4</td><td>8</td><td>1989-10-20 00:00:00.000</td><td>1999-10-09 00:00:00.000</td></tr>",
                            "<tr><td>8</td><td>3</td><td>Des?tka</td><td>4,25</td><td>11</td><td>1966-10-10 00:00:00.000</td><td>NULL</td></tr>",
                            "<tr><td>9</td><td>1</td><td>Baron</td><td>6,5</td><td>15</td><td>2010-11-11 00:00:00.000</td><td>2010-12-11 00:00:00.000</td></tr>",
                            "<tr><td>10</td><td>1</td><td>Baron</td><td>6,5</td><td>15</td><td>2020-11-11 00:00:00.000</td><td>2020-12-11 00:00:00.000</td></tr>",
                            "<tr><td>11</td><td>1</td><td>Svijansk? M?z</td><td>4,5</td><td>22</td><td>2019-10-10 00:00:00.000</td><td>NULL</td></tr>",
                            "</table>"
                        ]
                    }
                }
            ],
            "execution_count": 3
        },
        {
            "cell_type": "markdown",
            "source": [
                "## Full ultimate outer join:"
            ],
            "metadata": {
                "language": "sql",
                "azdata_cell_guid": "edb06157-4458-487a-b212-c945f67fec81"
            },
            "attachments": {}
        },
        {
            "cell_type": "code",
            "source": [
                "SELECT * FROM Pivovar FULL JOIN Pivo \n",
                "    ON Pivovar.id_pivovar = Pivo.id_pivovar FULL JOIN Odebira\n",
                "        ON Odebira.id_pivo = Pivo.id_pivo FULL JOIN Hospoda\n",
                "            ON Odebira.id_hospoda = Hospoda.id_hospoda"
            ],
            "metadata": {
                "azdata_cell_guid": "4efd9c94-9952-49c4-b49b-55a294d3f7d2",
                "language": "sql"
            },
            "outputs": [
                {
                    "output_type": "display_data",
                    "data": {
                        "text/html": "(20 rows affected)"
                    },
                    "metadata": {}
                },
                {
                    "output_type": "display_data",
                    "data": {
                        "text/html": "Total execution time: 00:00:00.015"
                    },
                    "metadata": {}
                },
                {
                    "output_type": "execute_result",
                    "metadata": {},
                    "execution_count": 21,
                    "data": {
                        "application/vnd.dataresource+json": {
                            "schema": {
                                "fields": [
                                    {
                                        "name": "id_pivovar"
                                    },
                                    {
                                        "name": "nazev"
                                    },
                                    {
                                        "name": "adresa"
                                    },
                                    {
                                        "name": "majitel"
                                    },
                                    {
                                        "name": "id_pivo"
                                    },
                                    {
                                        "name": "id_pivovar"
                                    },
                                    {
                                        "name": "jmeno"
                                    },
                                    {
                                        "name": "alkohol"
                                    },
                                    {
                                        "name": "horkost"
                                    },
                                    {
                                        "name": "vyroba_od"
                                    },
                                    {
                                        "name": "vyroba_do"
                                    },
                                    {
                                        "name": "id_pivo"
                                    },
                                    {
                                        "name": "id_hospoda"
                                    },
                                    {
                                        "name": "kupni_cena"
                                    },
                                    {
                                        "name": "prodejni_cena"
                                    },
                                    {
                                        "name": "id_hospoda"
                                    },
                                    {
                                        "name": "nazev"
                                    },
                                    {
                                        "name": "adresa"
                                    }
                                ]
                            },
                            "data": [
                                {
                                    "id_pivovar": "1",
                                    "nazev": "U Balcar?",
                                    "adresa": "Husova 20, Liberec",
                                    "majitel": "LIF Group",
                                    "id_pivo": "1",
                                    "jmeno": "Svijansk? Kn?e",
                                    "alkohol": "4,5",
                                    "horkost": "20",
                                    "vyroba_od": "2000-10-10 00:00:00.000",
                                    "vyroba_do": "NULL",
                                    "id_hospoda": "1",
                                    "kupni_cena": "25,50",
                                    "prodejni_cena": "35,00"
                                },
                                {
                                    "id_pivovar": "1",
                                    "nazev": "U Kalicha",
                                    "adresa": "?i?kova 10, Liberec",
                                    "majitel": "LIF Group",
                                    "id_pivo": "1",
                                    "jmeno": "Svijansk? Kn?e",
                                    "alkohol": "4,5",
                                    "horkost": "20",
                                    "vyroba_od": "2000-10-10 00:00:00.000",
                                    "vyroba_do": "NULL",
                                    "id_hospoda": "2",
                                    "kupni_cena": "25,50",
                                    "prodejni_cena": "35,00"
                                },
                                {
                                    "id_pivovar": "1",
                                    "nazev": "U Medv?da",
                                    "adresa": "Kate?insk? 8, Liberec",
                                    "majitel": "LIF Group",
                                    "id_pivo": "1",
                                    "jmeno": "Svijansk? Kn?e",
                                    "alkohol": "4,5",
                                    "horkost": "20",
                                    "vyroba_od": "2000-10-10 00:00:00.000",
                                    "vyroba_do": "NULL",
                                    "id_hospoda": "5",
                                    "kupni_cena": "25,50",
                                    "prodejni_cena": "35,00"
                                },
                                {
                                    "id_pivovar": "1",
                                    "nazev": "U Balcar?",
                                    "adresa": "Husova 20, Liberec",
                                    "majitel": "LIF Group",
                                    "id_pivo": "2",
                                    "jmeno": "Svijansk? Kn?na",
                                    "alkohol": "4,7",
                                    "horkost": "15",
                                    "vyroba_od": "2000-10-20 00:00:00.000",
                                    "vyroba_do": "NULL",
                                    "id_hospoda": "1",
                                    "kupni_cena": "27,50",
                                    "prodejni_cena": "37,50"
                                },
                                {
                                    "id_pivovar": "1",
                                    "nazev": "U Medv?da",
                                    "adresa": "Kate?insk? 8, Liberec",
                                    "majitel": "LIF Group",
                                    "id_pivo": "2",
                                    "jmeno": "Svijansk? Kn?na",
                                    "alkohol": "4,7",
                                    "horkost": "15",
                                    "vyroba_od": "2000-10-20 00:00:00.000",
                                    "vyroba_do": "NULL",
                                    "id_hospoda": "5",
                                    "kupni_cena": "25,50",
                                    "prodejni_cena": "35,00"
                                },
                                {
                                    "id_pivovar": "1",
                                    "nazev": "U Kalicha",
                                    "adresa": "?i?kova 10, Liberec",
                                    "majitel": "LIF Group",
                                    "id_pivo": "3",
                                    "jmeno": "Svijansk? Vozka",
                                    "alkohol": "0",
                                    "horkost": "10",
                                    "vyroba_od": "2020-10-10 00:00:00.000",
                                    "vyroba_do": "NULL",
                                    "id_hospoda": "2",
                                    "kupni_cena": "35,50",
                                    "prodejni_cena": "46,00"
                                },
                                {
                                    "id_pivovar": "1",
                                    "nazev": "Formanka",
                                    "adresa": "Nusle 5, Praha",
                                    "majitel": "LIF Group",
                                    "id_pivo": "3",
                                    "jmeno": "Svijansk? Vozka",
                                    "alkohol": "0",
                                    "horkost": "10",
                                    "vyroba_od": "2020-10-10 00:00:00.000",
                                    "vyroba_do": "NULL",
                                    "id_hospoda": "3",
                                    "kupni_cena": "35,50",
                                    "prodejni_cena": "45,00"
                                },
                                {
                                    "id_pivovar": "1",
                                    "nazev": "NULL",
                                    "adresa": "NULL",
                                    "majitel": "LIF Group",
                                    "id_pivo": "NULL",
                                    "jmeno": "Baron",
                                    "alkohol": "6,5",
                                    "horkost": "15",
                                    "vyroba_od": "2010-11-11 00:00:00.000",
                                    "vyroba_do": "2010-12-11 00:00:00.000",
                                    "id_hospoda": "NULL",
                                    "kupni_cena": "NULL",
                                    "prodejni_cena": "NULL"
                                },
                                {
                                    "id_pivovar": "1",
                                    "nazev": "NULL",
                                    "adresa": "NULL",
                                    "majitel": "LIF Group",
                                    "id_pivo": "NULL",
                                    "jmeno": "Baron",
                                    "alkohol": "6,5",
                                    "horkost": "15",
                                    "vyroba_od": "2020-11-11 00:00:00.000",
                                    "vyroba_do": "2020-12-11 00:00:00.000",
                                    "id_hospoda": "NULL",
                                    "kupni_cena": "NULL",
                                    "prodejni_cena": "NULL"
                                },
                                {
                                    "id_pivovar": "1",
                                    "nazev": "U Hrocha",
                                    "adresa": "Hrochova 69, Liberec",
                                    "majitel": "LIF Group",
                                    "id_pivo": "11",
                                    "jmeno": "Svijansk? M?z",
                                    "alkohol": "4,5",
                                    "horkost": "22",
                                    "vyroba_od": "2019-10-10 00:00:00.000",
                                    "vyroba_do": "NULL",
                                    "id_hospoda": "9",
                                    "kupni_cena": "20,00",
                                    "prodejni_cena": "30,00"
                                },
                                {
                                    "id_pivovar": "2",
                                    "nazev": "Formanka",
                                    "adresa": "Nusle 5, Praha",
                                    "majitel": "Asahi Group Holdings",
                                    "id_pivo": "4",
                                    "jmeno": "Pilsner Urquell",
                                    "alkohol": "4,2",
                                    "horkost": "10",
                                    "vyroba_od": "1900-10-10 00:00:00.000",
                                    "vyroba_do": "NULL",
                                    "id_hospoda": "3",
                                    "kupni_cena": "28,50",
                                    "prodejni_cena": "39,50"
                                },
                                {
                                    "id_pivovar": "2",
                                    "nazev": "??zk?rna Kopretina",
                                    "adresa": "T?ebo? 1122",
                                    "majitel": "Asahi Group Holdings",
                                    "id_pivo": "4",
                                    "jmeno": "Pilsner Urquell",
                                    "alkohol": "4,2",
                                    "horkost": "10",
                                    "vyroba_od": "1900-10-10 00:00:00.000",
                                    "vyroba_do": "NULL",
                                    "id_hospoda": "7",
                                    "kupni_cena": "28,50",
                                    "prodejni_cena": "40,00"
                                },
                                {
                                    "id_pivovar": "2",
                                    "nazev": "Assen",
                                    "adresa": "U Hr?bk? 3060, Ostrava-jih",
                                    "majitel": "Asahi Group Holdings",
                                    "id_pivo": "4",
                                    "jmeno": "Pilsner Urquell",
                                    "alkohol": "4,2",
                                    "horkost": "10",
                                    "vyroba_od": "1900-10-10 00:00:00.000",
                                    "vyroba_do": "NULL",
                                    "id_hospoda": "8",
                                    "kupni_cena": "28,50",
                                    "prodejni_cena": "40,00"
                                },
                                {
                                    "id_pivovar": "2",
                                    "nazev": "U Medv?da",
                                    "adresa": "Kate?insk? 8, Liberec",
                                    "majitel": "Asahi Group Holdings",
                                    "id_pivo": "5",
                                    "jmeno": "Gambrinus 10",
                                    "alkohol": "4",
                                    "horkost": "8",
                                    "vyroba_od": "1980-10-20 00:00:00.000",
                                    "vyroba_do": "NULL",
                                    "id_hospoda": "5",
                                    "kupni_cena": "25,50",
                                    "prodejni_cena": "34,50"
                                },
                                {
                                    "id_pivovar": "2",
                                    "nazev": "Assen",
                                    "adresa": "U Hr?bk? 3060, Ostrava-jih",
                                    "majitel": "Asahi Group Holdings",
                                    "id_pivo": "5",
                                    "jmeno": "Gambrinus 10",
                                    "alkohol": "4",
                                    "horkost": "8",
                                    "vyroba_od": "1980-10-20 00:00:00.000",
                                    "vyroba_do": "NULL",
                                    "id_hospoda": "8",
                                    "kupni_cena": "28,50",
                                    "prodejni_cena": "40,00"
                                },
                                {
                                    "id_pivovar": "3",
                                    "nazev": "NULL",
                                    "adresa": "NULL",
                                    "majitel": "St?tn? podnik",
                                    "id_pivo": "NULL",
                                    "jmeno": "Des?tka",
                                    "alkohol": "4,2",
                                    "horkost": "10",
                                    "vyroba_od": "1999-10-10 00:00:00.000",
                                    "vyroba_do": "NULL",
                                    "id_hospoda": "NULL",
                                    "kupni_cena": "NULL",
                                    "prodejni_cena": "NULL"
                                },
                                {
                                    "id_pivovar": "3",
                                    "nazev": "NULL",
                                    "adresa": "NULL",
                                    "majitel": "St?tn? podnik",
                                    "id_pivo": "NULL",
                                    "jmeno": "Des?tka",
                                    "alkohol": "4,25",
                                    "horkost": "11",
                                    "vyroba_od": "1966-10-10 00:00:00.000",
                                    "vyroba_do": "NULL",
                                    "id_hospoda": "NULL",
                                    "kupni_cena": "NULL",
                                    "prodejni_cena": "NULL"
                                },
                                {
                                    "id_pivovar": "4",
                                    "nazev": "NULL",
                                    "adresa": "NULL",
                                    "majitel": "MolsonCoors Brewing Co.",
                                    "id_pivo": "NULL",
                                    "jmeno": "Des?tka",
                                    "alkohol": "4",
                                    "horkost": "8",
                                    "vyroba_od": "1989-10-20 00:00:00.000",
                                    "vyroba_do": "1999-10-09 00:00:00.000",
                                    "id_hospoda": "NULL",
                                    "kupni_cena": "NULL",
                                    "prodejni_cena": "NULL"
                                },
                                {
                                    "id_pivovar": "NULL",
                                    "nazev": "U Tet?eva",
                                    "adresa": "Ferdinandov 50",
                                    "majitel": "NULL",
                                    "id_pivo": "NULL",
                                    "jmeno": "NULL",
                                    "alkohol": "NULL",
                                    "horkost": "NULL",
                                    "vyroba_od": "NULL",
                                    "vyroba_do": "NULL",
                                    "id_hospoda": "6",
                                    "kupni_cena": "NULL",
                                    "prodejni_cena": "NULL"
                                },
                                {
                                    "id_pivovar": "NULL",
                                    "nazev": "Formanka",
                                    "adresa": "Brn?nsk? 15, Brno",
                                    "majitel": "NULL",
                                    "id_pivo": "NULL",
                                    "jmeno": "NULL",
                                    "alkohol": "NULL",
                                    "horkost": "NULL",
                                    "vyroba_od": "NULL",
                                    "vyroba_do": "NULL",
                                    "id_hospoda": "4",
                                    "kupni_cena": "NULL",
                                    "prodejni_cena": "NULL"
                                }
                            ]
                        },
                        "text/html": [
                            "<table>",
                            "<tr><th>id_pivovar</th><th>nazev</th><th>adresa</th><th>majitel</th><th>id_pivo</th><th>id_pivovar</th><th>jmeno</th><th>alkohol</th><th>horkost</th><th>vyroba_od</th><th>vyroba_do</th><th>id_pivo</th><th>id_hospoda</th><th>kupni_cena</th><th>prodejni_cena</th><th>id_hospoda</th><th>nazev</th><th>adresa</th></tr>",
                            "<tr><td>1</td><td>Svijany</td><td>Svijansk? ?jezd</td><td>LIF Group</td><td>1</td><td>1</td><td>Svijansk? Kn?e</td><td>4,5</td><td>20</td><td>2000-10-10 00:00:00.000</td><td>NULL</td><td>1</td><td>1</td><td>25,50</td><td>35,00</td><td>1</td><td>U Balcar?</td><td>Husova 20, Liberec</td></tr>",
                            "<tr><td>1</td><td>Svijany</td><td>Svijansk? ?jezd</td><td>LIF Group</td><td>1</td><td>1</td><td>Svijansk? Kn?e</td><td>4,5</td><td>20</td><td>2000-10-10 00:00:00.000</td><td>NULL</td><td>1</td><td>2</td><td>25,50</td><td>35,00</td><td>2</td><td>U Kalicha</td><td>?i?kova 10, Liberec</td></tr>",
                            "<tr><td>1</td><td>Svijany</td><td>Svijansk? ?jezd</td><td>LIF Group</td><td>1</td><td>1</td><td>Svijansk? Kn?e</td><td>4,5</td><td>20</td><td>2000-10-10 00:00:00.000</td><td>NULL</td><td>1</td><td>5</td><td>25,50</td><td>35,00</td><td>5</td><td>U Medv?da</td><td>Kate?insk? 8, Liberec</td></tr>",
                            "<tr><td>1</td><td>Svijany</td><td>Svijansk? ?jezd</td><td>LIF Group</td><td>2</td><td>1</td><td>Svijansk? Kn?na</td><td>4,7</td><td>15</td><td>2000-10-20 00:00:00.000</td><td>NULL</td><td>2</td><td>1</td><td>27,50</td><td>37,50</td><td>1</td><td>U Balcar?</td><td>Husova 20, Liberec</td></tr>",
                            "<tr><td>1</td><td>Svijany</td><td>Svijansk? ?jezd</td><td>LIF Group</td><td>2</td><td>1</td><td>Svijansk? Kn?na</td><td>4,7</td><td>15</td><td>2000-10-20 00:00:00.000</td><td>NULL</td><td>2</td><td>5</td><td>25,50</td><td>35,00</td><td>5</td><td>U Medv?da</td><td>Kate?insk? 8, Liberec</td></tr>",
                            "<tr><td>1</td><td>Svijany</td><td>Svijansk? ?jezd</td><td>LIF Group</td><td>3</td><td>1</td><td>Svijansk? Vozka</td><td>0</td><td>10</td><td>2020-10-10 00:00:00.000</td><td>NULL</td><td>3</td><td>2</td><td>35,50</td><td>46,00</td><td>2</td><td>U Kalicha</td><td>?i?kova 10, Liberec</td></tr>",
                            "<tr><td>1</td><td>Svijany</td><td>Svijansk? ?jezd</td><td>LIF Group</td><td>3</td><td>1</td><td>Svijansk? Vozka</td><td>0</td><td>10</td><td>2020-10-10 00:00:00.000</td><td>NULL</td><td>3</td><td>3</td><td>35,50</td><td>45,00</td><td>3</td><td>Formanka</td><td>Nusle 5, Praha</td></tr>",
                            "<tr><td>1</td><td>Svijany</td><td>Svijansk? ?jezd</td><td>LIF Group</td><td>9</td><td>1</td><td>Baron</td><td>6,5</td><td>15</td><td>2010-11-11 00:00:00.000</td><td>2010-12-11 00:00:00.000</td><td>NULL</td><td>NULL</td><td>NULL</td><td>NULL</td><td>NULL</td><td>NULL</td><td>NULL</td></tr>",
                            "<tr><td>1</td><td>Svijany</td><td>Svijansk? ?jezd</td><td>LIF Group</td><td>10</td><td>1</td><td>Baron</td><td>6,5</td><td>15</td><td>2020-11-11 00:00:00.000</td><td>2020-12-11 00:00:00.000</td><td>NULL</td><td>NULL</td><td>NULL</td><td>NULL</td><td>NULL</td><td>NULL</td><td>NULL</td></tr>",
                            "<tr><td>1</td><td>Svijany</td><td>Svijansk? ?jezd</td><td>LIF Group</td><td>11</td><td>1</td><td>Svijansk? M?z</td><td>4,5</td><td>22</td><td>2019-10-10 00:00:00.000</td><td>NULL</td><td>11</td><td>9</td><td>20,00</td><td>30,00</td><td>9</td><td>U Hrocha</td><td>Hrochova 69, Liberec</td></tr>",
                            "<tr><td>2</td><td>Plze?sk? Prazdroj</td><td>Plze?</td><td>Asahi Group Holdings</td><td>4</td><td>2</td><td>Pilsner Urquell</td><td>4,2</td><td>10</td><td>1900-10-10 00:00:00.000</td><td>NULL</td><td>4</td><td>3</td><td>28,50</td><td>39,50</td><td>3</td><td>Formanka</td><td>Nusle 5, Praha</td></tr>",
                            "<tr><td>2</td><td>Plze?sk? Prazdroj</td><td>Plze?</td><td>Asahi Group Holdings</td><td>4</td><td>2</td><td>Pilsner Urquell</td><td>4,2</td><td>10</td><td>1900-10-10 00:00:00.000</td><td>NULL</td><td>4</td><td>7</td><td>28,50</td><td>40,00</td><td>7</td><td>??zk?rna Kopretina</td><td>T?ebo? 1122</td></tr>",
                            "<tr><td>2</td><td>Plze?sk? Prazdroj</td><td>Plze?</td><td>Asahi Group Holdings</td><td>4</td><td>2</td><td>Pilsner Urquell</td><td>4,2</td><td>10</td><td>1900-10-10 00:00:00.000</td><td>NULL</td><td>4</td><td>8</td><td>28,50</td><td>40,00</td><td>8</td><td>Assen</td><td>U Hr?bk? 3060, Ostrava-jih</td></tr>",
                            "<tr><td>2</td><td>Plze?sk? Prazdroj</td><td>Plze?</td><td>Asahi Group Holdings</td><td>5</td><td>2</td><td>Gambrinus 10</td><td>4</td><td>8</td><td>1980-10-20 00:00:00.000</td><td>NULL</td><td>5</td><td>5</td><td>25,50</td><td>34,50</td><td>5</td><td>U Medv?da</td><td>Kate?insk? 8, Liberec</td></tr>",
                            "<tr><td>2</td><td>Plze?sk? Prazdroj</td><td>Plze?</td><td>Asahi Group Holdings</td><td>5</td><td>2</td><td>Gambrinus 10</td><td>4</td><td>8</td><td>1980-10-20 00:00:00.000</td><td>NULL</td><td>5</td><td>8</td><td>28,50</td><td>40,00</td><td>8</td><td>Assen</td><td>U Hr?bk? 3060, Ostrava-jih</td></tr>",
                            "<tr><td>3</td><td>Bud?jovick? Budvar</td><td>?esk? Bud?jovice</td><td>St?tn? podnik</td><td>6</td><td>3</td><td>Des?tka</td><td>4,2</td><td>10</td><td>1999-10-10 00:00:00.000</td><td>NULL</td><td>NULL</td><td>NULL</td><td>NULL</td><td>NULL</td><td>NULL</td><td>NULL</td><td>NULL</td></tr>",
                            "<tr><td>3</td><td>Bud?jovick? Budvar</td><td>?esk? Bud?jovice</td><td>St?tn? podnik</td><td>8</td><td>3</td><td>Des?tka</td><td>4,25</td><td>11</td><td>1966-10-10 00:00:00.000</td><td>NULL</td><td>NULL</td><td>NULL</td><td>NULL</td><td>NULL</td><td>NULL</td><td>NULL</td><td>NULL</td></tr>",
                            "<tr><td>4</td><td>Staropramen</td><td>Praha</td><td>MolsonCoors Brewing Co.</td><td>7</td><td>4</td><td>Des?tka</td><td>4</td><td>8</td><td>1989-10-20 00:00:00.000</td><td>1999-10-09 00:00:00.000</td><td>NULL</td><td>NULL</td><td>NULL</td><td>NULL</td><td>NULL</td><td>NULL</td><td>NULL</td></tr>",
                            "<tr><td>NULL</td><td>NULL</td><td>NULL</td><td>NULL</td><td>NULL</td><td>NULL</td><td>NULL</td><td>NULL</td><td>NULL</td><td>NULL</td><td>NULL</td><td>NULL</td><td>NULL</td><td>NULL</td><td>NULL</td><td>6</td><td>U Tet?eva</td><td>Ferdinandov 50</td></tr>",
                            "<tr><td>NULL</td><td>NULL</td><td>NULL</td><td>NULL</td><td>NULL</td><td>NULL</td><td>NULL</td><td>NULL</td><td>NULL</td><td>NULL</td><td>NULL</td><td>NULL</td><td>NULL</td><td>NULL</td><td>NULL</td><td>4</td><td>Formanka</td><td>Brn?nsk? 15, Brno</td></tr>",
                            "</table>"
                        ]
                    }
                }
            ],
            "execution_count": 21
        },
        {
            "cell_type": "markdown",
            "source": [
                "## Řešení jednotlivých úloh"
            ],
            "metadata": {
                "language": "sql",
                "azdata_cell_guid": "9982dbe2-0e92-407b-a5a4-71f14b96b250"
            },
            "attachments": {}
        },
        {
            "cell_type": "markdown",
            "source": [
                "1\\. Vypište názvy hospod, které neodebírají žádné pivo od pivovaru Svijany. Do výsledku zahrňte i hospody, které vůbec neodebírají pivo."
            ],
            "metadata": {
                "language": "sql",
                "azdata_cell_guid": "8f1ba477-9569-438e-9903-fe38c8b0cfb6"
            },
            "attachments": {}
        },
        {
            "cell_type": "code",
            "source": [
                "SELECT nazev FROM Hospoda H\n",
                "WHERE H.id_hospoda NOT IN (\n",
                "    SELECT Odebira.id_hospoda FROM Odebira, Pivo, Pivovar\n",
                "    WHERE Odebira.id_pivo = Pivo.id_pivo\n",
                "    AND Pivo.id_pivovar = Pivovar.id_pivovar\n",
                "    AND Pivovar.nazev = 'Svijany'\n",
                ")"
            ],
            "metadata": {
                "azdata_cell_guid": "8433e754-6420-4238-b50a-13ed98984319",
                "language": "sql",
                "tags": []
            },
            "outputs": [
                {
                    "output_type": "display_data",
                    "data": {
                        "text/html": "(4 rows affected)"
                    },
                    "metadata": {}
                },
                {
                    "output_type": "display_data",
                    "data": {
                        "text/html": "Total execution time: 00:00:00.017"
                    },
                    "metadata": {}
                },
                {
                    "output_type": "execute_result",
                    "metadata": {},
                    "execution_count": 45,
                    "data": {
                        "application/vnd.dataresource+json": {
                            "schema": {
                                "fields": [
                                    {
                                        "name": "nazev"
                                    }
                                ]
                            },
                            "data": [
                                {
                                    "nazev": "Formanka"
                                },
                                {
                                    "nazev": "U Tet?eva"
                                },
                                {
                                    "nazev": "??zk?rna Kopretina"
                                },
                                {
                                    "nazev": "Assen"
                                }
                            ]
                        },
                        "text/html": [
                            "<table>",
                            "<tr><th>nazev</th></tr>",
                            "<tr><td>Formanka</td></tr>",
                            "<tr><td>U Tet?eva</td></tr>",
                            "<tr><td>??zk?rna Kopretina</td></tr>",
                            "<tr><td>Assen</td></tr>",
                            "</table>"
                        ]
                    }
                }
            ],
            "execution_count": 45
        },
        {
            "cell_type": "markdown",
            "source": [
                "2\\. Vypište názvy pivovarů, které nedodávají pivo do žádné hospody s názvem Formanka."
            ],
            "metadata": {
                "language": "sql",
                "azdata_cell_guid": "e024ae2f-64b9-4395-9696-e59b93e8fc76"
            },
            "attachments": {}
        },
        {
            "cell_type": "code",
            "source": [
                "SELECT R.nazev FROM Pivovar R \n",
                "WHERE R.id_pivovar NOT IN (\n",
                "    -- pivovary, ktere dodavaji do hospody Formanka \n",
                "    SELECT DISTINCT R.id_pivovar FROM Odebira, Pivo, Pivovar R, (\n",
                "        SELECT H.id_hospoda FROM Hospoda H\n",
                "        WHERE H.nazev = 'Formanka'\n",
                "    ) H \n",
                "    WHERE H.id_hospoda = Odebira.id_hospoda\n",
                "    AND Odebira.id_pivo = Pivo.id_pivo\n",
                "    AND Pivo.id_pivovar = R.id_pivovar\n",
                ")"
            ],
            "metadata": {
                "language": "sql",
                "azdata_cell_guid": "b0d5ddd6-0b1c-4fd2-bc81-02b6c04f7677"
            },
            "outputs": [
                {
                    "output_type": "display_data",
                    "data": {
                        "text/html": "(2 rows affected)"
                    },
                    "metadata": {}
                },
                {
                    "output_type": "display_data",
                    "data": {
                        "text/html": "Total execution time: 00:00:00.018"
                    },
                    "metadata": {}
                },
                {
                    "output_type": "execute_result",
                    "metadata": {},
                    "execution_count": 46,
                    "data": {
                        "application/vnd.dataresource+json": {
                            "schema": {
                                "fields": [
                                    {
                                        "name": "nazev"
                                    }
                                ]
                            },
                            "data": [
                                {
                                    "nazev": "Bud?jovick? Budvar"
                                },
                                {
                                    "nazev": "Staropramen"
                                }
                            ]
                        },
                        "text/html": [
                            "<table>",
                            "<tr><th>nazev</th></tr>",
                            "<tr><td>Bud?jovick? Budvar</td></tr>",
                            "<tr><td>Staropramen</td></tr>",
                            "</table>"
                        ]
                    }
                }
            ],
            "execution_count": 46
        },
        {
            "cell_type": "markdown",
            "source": [
                "3\\. Vypište názvy pivovarů, které dodávají pivo do tří a více hospod (nazev, pocet)."
            ],
            "metadata": {
                "language": "sql",
                "azdata_cell_guid": "5434148e-60b0-4c9b-a0c5-7693a8995413"
            },
            "attachments": {}
        },
        {
            "cell_type": "code",
            "source": [
                "SELECT DISTINCT Pivovar.nazev, pocet \n",
                "FROM Pivovar, (\n",
                "    SELECT Pivo.id_pivovar, COUNT(DISTINCT Odebira.id_hospoda) pocet \n",
                "    FROM Odebira, Pivo \n",
                "    WHERE Odebira.id_pivo = Pivo.id_pivo\n",
                "    GROUP BY Pivo.id_pivovar\n",
                "    HAVING COUNT(DISTINCT Odebira.id_hospoda) >= 3\n",
                ") PT\n",
                "WHERE Pivovar.id_pivovar = PT.id_pivovar"
            ],
            "metadata": {
                "language": "sql",
                "azdata_cell_guid": "ef6f5cb2-f55f-4e97-8e29-4eae1e20924a"
            },
            "outputs": [
                {
                    "output_type": "display_data",
                    "data": {
                        "text/html": "(2 rows affected)"
                    },
                    "metadata": {}
                },
                {
                    "output_type": "display_data",
                    "data": {
                        "text/html": "Total execution time: 00:00:00.007"
                    },
                    "metadata": {}
                },
                {
                    "output_type": "execute_result",
                    "metadata": {},
                    "execution_count": 57,
                    "data": {
                        "application/vnd.dataresource+json": {
                            "schema": {
                                "fields": [
                                    {
                                        "name": "nazev"
                                    },
                                    {
                                        "name": "pocet"
                                    }
                                ]
                            },
                            "data": [
                                {
                                    "nazev": "Svijany",
                                    "pocet": "5"
                                },
                                {
                                    "nazev": "Plze?sk? Prazdroj",
                                    "pocet": "4"
                                }
                            ]
                        },
                        "text/html": [
                            "<table>",
                            "<tr><th>nazev</th><th>pocet</th></tr>",
                            "<tr><td>Svijany</td><td>5</td></tr>",
                            "<tr><td>Plze?sk? Prazdroj</td><td>4</td></tr>",
                            "</table>"
                        ]
                    }
                }
            ],
            "execution_count": 57
        },
        {
            "cell_type": "markdown",
            "source": [
                "4\\. Vypište názvy hospod, do kterých dodává dva a více pivovarů (nazev, pocet)."
            ],
            "metadata": {
                "language": "sql",
                "azdata_cell_guid": "fc8dbe83-3dd5-4ae1-9460-b9dc5e35ebb7"
            },
            "attachments": {}
        },
        {
            "cell_type": "code",
            "source": [
                "SELECT DISTINCT Hospoda.nazev, pocet \n",
                "FROM Hospoda, (\n",
                "    SELECT Odebira.id_hospoda, COUNT(DISTINCT Pivo.id_pivovar) pocet \n",
                "    FROM Odebira, Pivo\n",
                "    WHERE Odebira.id_pivo = Pivo.id_pivo\n",
                "    GROUP BY Odebira.id_hospoda\n",
                "    HAVING COUNT(DISTINCT Pivo.id_pivovar) >= 2\n",
                ") PT\n",
                "WHERE Hospoda.id_hospoda = PT.id_hospoda"
            ],
            "metadata": {
                "language": "sql",
                "azdata_cell_guid": "5a1139b8-bb80-426c-aa6b-775fa5de90e9"
            },
            "outputs": [
                {
                    "output_type": "display_data",
                    "data": {
                        "text/html": "(2 rows affected)"
                    },
                    "metadata": {}
                },
                {
                    "output_type": "display_data",
                    "data": {
                        "text/html": "Total execution time: 00:00:00.010"
                    },
                    "metadata": {}
                },
                {
                    "output_type": "execute_result",
                    "metadata": {},
                    "execution_count": 59,
                    "data": {
                        "application/vnd.dataresource+json": {
                            "schema": {
                                "fields": [
                                    {
                                        "name": "nazev"
                                    },
                                    {
                                        "name": "pocet"
                                    }
                                ]
                            },
                            "data": [
                                {
                                    "nazev": "Formanka",
                                    "pocet": "2"
                                },
                                {
                                    "nazev": "U Medv?da",
                                    "pocet": "2"
                                }
                            ]
                        },
                        "text/html": [
                            "<table>",
                            "<tr><th>nazev</th><th>pocet</th></tr>",
                            "<tr><td>Formanka</td><td>2</td></tr>",
                            "<tr><td>U Medv?da</td><td>2</td></tr>",
                            "</table>"
                        ]
                    }
                }
            ],
            "execution_count": 59
        },
        {
            "cell_type": "markdown",
            "source": [
                "5\\. Vypište jména piv, jejichž výroba se v určitém pivovaru (pivo stejného jména se ve stejném pivovaru vyrábělo/vyrábí v různá časová období, tedy více než jednou)."
            ],
            "metadata": {
                "language": "sql",
                "azdata_cell_guid": "206aa0ea-93af-49aa-a9c1-cb213ced4ba2"
            },
            "attachments": {}
        },
        {
            "cell_type": "code",
            "source": [
                "SELECT Pivo.jmeno, Pivo.vyroba_od, Pivo.id_pivovar FROM Pivo"
            ],
            "metadata": {
                "language": "sql",
                "azdata_cell_guid": "89eb87d6-3d88-4e7e-8499-60a5633cf9d0",
                "tags": []
            },
            "outputs": [
                {
                    "output_type": "display_data",
                    "data": {
                        "text/html": "(11 rows affected)"
                    },
                    "metadata": {}
                },
                {
                    "output_type": "display_data",
                    "data": {
                        "text/html": "Total execution time: 00:00:00.007"
                    },
                    "metadata": {}
                },
                {
                    "output_type": "execute_result",
                    "metadata": {},
                    "execution_count": 37,
                    "data": {
                        "application/vnd.dataresource+json": {
                            "schema": {
                                "fields": [
                                    {
                                        "name": "jmeno"
                                    },
                                    {
                                        "name": "vyroba_od"
                                    },
                                    {
                                        "name": "id_pivovar"
                                    }
                                ]
                            },
                            "data": [
                                {
                                    "jmeno": "Svijansk? Kn?e",
                                    "vyroba_od": "2000-10-10 00:00:00.000",
                                    "id_pivovar": "1"
                                },
                                {
                                    "jmeno": "Svijansk? Kn?na",
                                    "vyroba_od": "2000-10-20 00:00:00.000",
                                    "id_pivovar": "1"
                                },
                                {
                                    "jmeno": "Svijansk? Vozka",
                                    "vyroba_od": "2020-10-10 00:00:00.000",
                                    "id_pivovar": "1"
                                },
                                {
                                    "jmeno": "Pilsner Urquell",
                                    "vyroba_od": "1900-10-10 00:00:00.000",
                                    "id_pivovar": "2"
                                },
                                {
                                    "jmeno": "Gambrinus 10",
                                    "vyroba_od": "1980-10-20 00:00:00.000",
                                    "id_pivovar": "2"
                                },
                                {
                                    "jmeno": "Des?tka",
                                    "vyroba_od": "1999-10-10 00:00:00.000",
                                    "id_pivovar": "3"
                                },
                                {
                                    "jmeno": "Des?tka",
                                    "vyroba_od": "1989-10-20 00:00:00.000",
                                    "id_pivovar": "4"
                                },
                                {
                                    "jmeno": "Des?tka",
                                    "vyroba_od": "1966-10-10 00:00:00.000",
                                    "id_pivovar": "3"
                                },
                                {
                                    "jmeno": "Baron",
                                    "vyroba_od": "2010-11-11 00:00:00.000",
                                    "id_pivovar": "1"
                                },
                                {
                                    "jmeno": "Baron",
                                    "vyroba_od": "2020-11-11 00:00:00.000",
                                    "id_pivovar": "1"
                                },
                                {
                                    "jmeno": "Svijansk? M?z",
                                    "vyroba_od": "2019-10-10 00:00:00.000",
                                    "id_pivovar": "1"
                                }
                            ]
                        },
                        "text/html": [
                            "<table>",
                            "<tr><th>jmeno</th><th>vyroba_od</th><th>id_pivovar</th></tr>",
                            "<tr><td>Svijansk? Kn?e</td><td>2000-10-10 00:00:00.000</td><td>1</td></tr>",
                            "<tr><td>Svijansk? Kn?na</td><td>2000-10-20 00:00:00.000</td><td>1</td></tr>",
                            "<tr><td>Svijansk? Vozka</td><td>2020-10-10 00:00:00.000</td><td>1</td></tr>",
                            "<tr><td>Pilsner Urquell</td><td>1900-10-10 00:00:00.000</td><td>2</td></tr>",
                            "<tr><td>Gambrinus 10</td><td>1980-10-20 00:00:00.000</td><td>2</td></tr>",
                            "<tr><td>Des?tka</td><td>1999-10-10 00:00:00.000</td><td>3</td></tr>",
                            "<tr><td>Des?tka</td><td>1989-10-20 00:00:00.000</td><td>4</td></tr>",
                            "<tr><td>Des?tka</td><td>1966-10-10 00:00:00.000</td><td>3</td></tr>",
                            "<tr><td>Baron</td><td>2010-11-11 00:00:00.000</td><td>1</td></tr>",
                            "<tr><td>Baron</td><td>2020-11-11 00:00:00.000</td><td>1</td></tr>",
                            "<tr><td>Svijansk? M?z</td><td>2019-10-10 00:00:00.000</td><td>1</td></tr>",
                            "</table>"
                        ]
                    }
                }
            ],
            "execution_count": 37
        },
        {
            "cell_type": "code",
            "source": [
                "SELECT A.jmeno FROM Pivo A, Pivo B\n",
                "WHERE A.jmeno = B.jmeno \n",
                "AND A.id_pivo > B.id_pivo\n",
                "AND A.id_pivovar = B.id_pivovar\n",
                "AND A.vyroba_od != B.vyroba_od"
            ],
            "metadata": {
                "language": "sql",
                "azdata_cell_guid": "6bd5d5a1-3ce9-4c1a-b17e-3540520e7d6d"
            },
            "outputs": [
                {
                    "output_type": "display_data",
                    "data": {
                        "text/html": "(2 rows affected)"
                    },
                    "metadata": {}
                },
                {
                    "output_type": "display_data",
                    "data": {
                        "text/html": "Total execution time: 00:00:00.012"
                    },
                    "metadata": {}
                },
                {
                    "output_type": "execute_result",
                    "metadata": {},
                    "execution_count": 64,
                    "data": {
                        "application/vnd.dataresource+json": {
                            "schema": {
                                "fields": [
                                    {
                                        "name": "jmeno"
                                    }
                                ]
                            },
                            "data": [
                                {
                                    "jmeno": "Des?tka"
                                },
                                {
                                    "jmeno": "Baron"
                                }
                            ]
                        },
                        "text/html": [
                            "<table>",
                            "<tr><th>jmeno</th></tr>",
                            "<tr><td>Des?tka</td></tr>",
                            "<tr><td>Baron</td></tr>",
                            "</table>"
                        ]
                    }
                }
            ],
            "execution_count": 64
        },
        {
            "cell_type": "markdown",
            "source": [
                "6\\. Vypište dvojice názvů (pivo\\_1, pivo\\_2) podobných piv. Podobná piva mají stejný obsah alkoholu a stejnou hořkost. Pokud jsou však zároveň ze stejného pivovaru a jmenují se stejně, ve výpisu nebudou."
            ],
            "metadata": {
                "language": "sql",
                "azdata_cell_guid": "e71be13f-0e65-4124-96f8-02af5a1a9146"
            },
            "attachments": {}
        },
        {
            "cell_type": "code",
            "source": [
                "SELECT A.jmeno, B.jmeno, A.alkohol, A.horkost FROM Pivo A, Pivo B \n",
                "WHERE A.jmeno != B.jmeno \n",
                "AND A.id_pivovar != B.id_pivovar\n",
                "AND A.id_pivo > B.id_pivo\n",
                "AND A.alkohol = B.alkohol\n",
                "AND A.horkost = B.horkost"
            ],
            "metadata": {
                "language": "sql",
                "azdata_cell_guid": "20050dd5-34f1-4db5-9425-68f2b015e0a2"
            },
            "outputs": [
                {
                    "output_type": "display_data",
                    "data": {
                        "text/html": "(2 rows affected)"
                    },
                    "metadata": {}
                },
                {
                    "output_type": "display_data",
                    "data": {
                        "text/html": "Total execution time: 00:00:00.045"
                    },
                    "metadata": {}
                },
                {
                    "output_type": "execute_result",
                    "metadata": {},
                    "execution_count": 66,
                    "data": {
                        "application/vnd.dataresource+json": {
                            "schema": {
                                "fields": [
                                    {
                                        "name": "jmeno"
                                    },
                                    {
                                        "name": "jmeno"
                                    },
                                    {
                                        "name": "alkohol"
                                    },
                                    {
                                        "name": "horkost"
                                    }
                                ]
                            },
                            "data": [
                                {
                                    "jmeno": "Pilsner Urquell",
                                    "alkohol": "4,2",
                                    "horkost": "10"
                                },
                                {
                                    "jmeno": "Gambrinus 10",
                                    "alkohol": "4",
                                    "horkost": "8"
                                }
                            ]
                        },
                        "text/html": [
                            "<table>",
                            "<tr><th>jmeno</th><th>jmeno</th><th>alkohol</th><th>horkost</th></tr>",
                            "<tr><td>Des?tka</td><td>Pilsner Urquell</td><td>4,2</td><td>10</td></tr>",
                            "<tr><td>Des?tka</td><td>Gambrinus 10</td><td>4</td><td>8</td></tr>",
                            "</table>"
                        ]
                    }
                }
            ],
            "execution_count": 66
        },
        {
            "cell_type": "markdown",
            "source": [
                "7\\. Vypište názvy hospod, do nichž dodává pivo pouze pivovar Svijany."
            ],
            "metadata": {
                "azdata_cell_guid": "aa595336-cbfe-4e6f-94e7-0a5c4a76b704"
            },
            "attachments": {}
        },
        {
            "cell_type": "code",
            "source": [
                "SELECT H.nazev FROM Hospoda H, (\n",
                "    SELECT DISTINCT O.id_hospoda FROM Odebira O, Pivo P, (\n",
                "        SELECT * FROM Pivovar R\n",
                "        WHERE R.nazev = 'Svijany'\n",
                "    ) R\n",
                "    WHERE O.id_pivo = P.id_pivo\n",
                "    AND P.id_pivovar = R.id_pivovar\n",
                "    AND O.id_hospoda NOT IN (\n",
                "        SELECT DISTINCT O.id_hospoda FROM Odebira O, Pivo P, (\n",
                "            SELECT * FROM Pivovar R\n",
                "            WHERE R.nazev != 'Svijany'\n",
                "        ) R\n",
                "        WHERE O.id_pivo = P.id_pivo\n",
                "        AND P.id_pivovar = R.id_pivovar\n",
                "    )\n",
                ") Odbery\n",
                "WHERE Odbery.id_hospoda = H.id_hospoda"
            ],
            "metadata": {
                "azdata_cell_guid": "607f974b-6829-42a7-a32b-26f2e0d0e3fd",
                "language": "sql"
            },
            "outputs": [
                {
                    "output_type": "display_data",
                    "data": {
                        "text/html": "(3 rows affected)"
                    },
                    "metadata": {}
                },
                {
                    "output_type": "display_data",
                    "data": {
                        "text/html": "Total execution time: 00:00:00.024"
                    },
                    "metadata": {}
                },
                {
                    "output_type": "execute_result",
                    "metadata": {},
                    "execution_count": 67,
                    "data": {
                        "application/vnd.dataresource+json": {
                            "schema": {
                                "fields": [
                                    {
                                        "name": "nazev"
                                    }
                                ]
                            },
                            "data": [
                                {
                                    "nazev": "U Balcar?"
                                },
                                {
                                    "nazev": "U Kalicha"
                                },
                                {
                                    "nazev": "U Hrocha"
                                }
                            ]
                        },
                        "text/html": [
                            "<table>",
                            "<tr><th>nazev</th></tr>",
                            "<tr><td>U Balcar?</td></tr>",
                            "<tr><td>U Kalicha</td></tr>",
                            "<tr><td>U Hrocha</td></tr>",
                            "</table>"
                        ]
                    }
                }
            ],
            "execution_count": 67
        },
        {
            "cell_type": "markdown",
            "source": [
                "8\\. Vypište názvy hospod, do nichž dodává pivo zároveň pivovar Svijany i Plzeňský Prazdroj."
            ],
            "metadata": {
                "azdata_cell_guid": "c35a4d5f-715e-4cfc-872e-1b9f15258e40"
            },
            "attachments": {}
        },
        {
            "cell_type": "code",
            "source": [
                ""
            ],
            "metadata": {
                "azdata_cell_guid": "dd2dc341-1c39-4d83-8cc7-b72c0f8692f3",
                "language": "sql"
            },
            "outputs": [],
            "execution_count": null
        },
        {
            "cell_type": "markdown",
            "source": [
                "9\\. Vypište jména piv, které čepuje pouze jedna hospoda."
            ],
            "metadata": {
                "azdata_cell_guid": "b4f81bd0-5412-4efa-b1a0-60d4c32ad0d6"
            },
            "attachments": {}
        },
        {
            "cell_type": "code",
            "source": [
                ""
            ],
            "metadata": {
                "azdata_cell_guid": "3c95a5e1-43d8-4ed9-88d5-afbe7ca71ee0",
                "language": "sql"
            },
            "outputs": [],
            "execution_count": null
        },
        {
            "cell_type": "markdown",
            "source": [
                "10\\. Vypište jména piv, které neodebírají hospody s názvem Formanka."
            ],
            "metadata": {
                "azdata_cell_guid": "bbca22cb-2d51-4e80-96f6-e20ae35bc646"
            },
            "attachments": {}
        },
        {
            "cell_type": "code",
            "source": [
                ""
            ],
            "metadata": {
                "azdata_cell_guid": "a009238a-3cd5-4714-950a-da451728c85a",
                "language": "sql"
            },
            "outputs": [],
            "execution_count": null
        },
        {
            "cell_type": "markdown",
            "source": [
                "11\\. Vypište názvy hospod, které nečepují piva se jménem 'Pilsner Urquell'."
            ],
            "metadata": {
                "azdata_cell_guid": "d8011bd7-ea29-4637-947d-670660cee3c3"
            },
            "attachments": {}
        },
        {
            "cell_type": "code",
            "source": [
                "SELECT nazev FROM Hospoda H\n",
                "WHERE H.id_hospoda NOT IN (\n",
                "    SELECT id_hospoda FROM Odebira JOIN Pivo ON (Odebira.id_pivo = Pivo.id_pivo)\n",
                "    WHERE Pivo.jmeno = 'Pilsner Urquell'\n",
                ")"
            ],
            "metadata": {
                "azdata_cell_guid": "7e8d3439-fa9f-4b2a-bb65-5733b71ba5ae",
                "language": "sql"
            },
            "outputs": [
                {
                    "output_type": "display_data",
                    "data": {
                        "text/html": "(6 rows affected)"
                    },
                    "metadata": {}
                },
                {
                    "output_type": "display_data",
                    "data": {
                        "text/html": "Total execution time: 00:00:00.009"
                    },
                    "metadata": {}
                },
                {
                    "output_type": "execute_result",
                    "metadata": {},
                    "execution_count": 12,
                    "data": {
                        "application/vnd.dataresource+json": {
                            "schema": {
                                "fields": [
                                    {
                                        "name": "nazev"
                                    }
                                ]
                            },
                            "data": [
                                {
                                    "nazev": "U Balcar?"
                                },
                                {
                                    "nazev": "U Kalicha"
                                },
                                {
                                    "nazev": "Formanka"
                                },
                                {
                                    "nazev": "U Medv?da"
                                },
                                {
                                    "nazev": "U Tet?eva"
                                },
                                {
                                    "nazev": "U Hrocha"
                                }
                            ]
                        },
                        "text/html": [
                            "<table>",
                            "<tr><th>nazev</th></tr>",
                            "<tr><td>U Balcar?</td></tr>",
                            "<tr><td>U Kalicha</td></tr>",
                            "<tr><td>Formanka</td></tr>",
                            "<tr><td>U Medv?da</td></tr>",
                            "<tr><td>U Tet?eva</td></tr>",
                            "<tr><td>U Hrocha</td></tr>",
                            "</table>"
                        ]
                    }
                }
            ],
            "execution_count": 12
        },
        {
            "cell_type": "markdown",
            "source": [
                "12\\. Vypište pro jednotlivé hospody taková jména piv, z jejichž prodeje má hospoda maximální zisk (hospoda, pivo, zisk). POZOR: Název hospody není unikátní! Piv s maximálním ziskem (prodejni\\_cena – kupni\\_cena) může být v hospodě více!"
            ],
            "metadata": {
                "azdata_cell_guid": "66095fb2-9635-4a2c-8b0f-729abfc77e61"
            },
            "attachments": {}
        },
        {
            "cell_type": "code",
            "source": [
                "SELECT piva.nazev, piva.jmeno, piva.zisk FROM (\n",
                "    SELECT H.id_hospoda, H.nazev, P.jmeno, (O.prodejni_cena - O.kupni_cena) zisk FROM Hospoda H, Odebira O, Pivo P\n",
                "    WHERE H.id_hospoda = O.id_hospoda\n",
                "    AND O.id_pivo = P.id_pivo\n",
                ") piva, (\n",
                "    SELECT H.id_hospoda, MAX(O.prodejni_cena - O.kupni_cena) max_zisk FROM Hospoda H, Odebira O\n",
                "    WHERE H.id_hospoda = O.id_hospoda\n",
                "    GROUP BY H.id_hospoda, H.nazev\n",
                ") zisky\n",
                "WHERE zisky.id_hospoda = piva.id_hospoda\n",
                "AND zisky.max_zisk = piva.zisk"
            ],
            "metadata": {
                "azdata_cell_guid": "18f8e39b-4764-45cd-b6a5-5b770402eb9a",
                "language": "sql"
            },
            "outputs": [
                {
                    "output_type": "display_data",
                    "data": {
                        "text/html": "(9 rows affected)"
                    },
                    "metadata": {}
                },
                {
                    "output_type": "display_data",
                    "data": {
                        "text/html": "Total execution time: 00:00:00.017"
                    },
                    "metadata": {}
                },
                {
                    "output_type": "execute_result",
                    "metadata": {},
                    "execution_count": 13,
                    "data": {
                        "application/vnd.dataresource+json": {
                            "schema": {
                                "fields": [
                                    {
                                        "name": "nazev"
                                    },
                                    {
                                        "name": "jmeno"
                                    },
                                    {
                                        "name": "zisk"
                                    }
                                ]
                            },
                            "data": [
                                {
                                    "nazev": "U Medv?da",
                                    "jmeno": "Svijansk? Kn?e",
                                    "zisk": "9,50"
                                },
                                {
                                    "nazev": "U Balcar?",
                                    "jmeno": "Svijansk? Kn?na",
                                    "zisk": "10,00"
                                },
                                {
                                    "nazev": "U Medv?da",
                                    "jmeno": "Svijansk? Kn?na",
                                    "zisk": "9,50"
                                },
                                {
                                    "nazev": "U Kalicha",
                                    "jmeno": "Svijansk? Vozka",
                                    "zisk": "10,50"
                                },
                                {
                                    "nazev": "Formanka",
                                    "jmeno": "Pilsner Urquell",
                                    "zisk": "11,00"
                                },
                                {
                                    "nazev": "??zk?rna Kopretina",
                                    "jmeno": "Pilsner Urquell",
                                    "zisk": "11,50"
                                },
                                {
                                    "nazev": "Assen",
                                    "jmeno": "Pilsner Urquell",
                                    "zisk": "11,50"
                                },
                                {
                                    "nazev": "Assen",
                                    "jmeno": "Gambrinus 10",
                                    "zisk": "11,50"
                                },
                                {
                                    "nazev": "U Hrocha",
                                    "jmeno": "Svijansk? M?z",
                                    "zisk": "10,00"
                                }
                            ]
                        },
                        "text/html": [
                            "<table>",
                            "<tr><th>nazev</th><th>jmeno</th><th>zisk</th></tr>",
                            "<tr><td>U Medv?da</td><td>Svijansk? Kn?e</td><td>9,50</td></tr>",
                            "<tr><td>U Balcar?</td><td>Svijansk? Kn?na</td><td>10,00</td></tr>",
                            "<tr><td>U Medv?da</td><td>Svijansk? Kn?na</td><td>9,50</td></tr>",
                            "<tr><td>U Kalicha</td><td>Svijansk? Vozka</td><td>10,50</td></tr>",
                            "<tr><td>Formanka</td><td>Pilsner Urquell</td><td>11,00</td></tr>",
                            "<tr><td>??zk?rna Kopretina</td><td>Pilsner Urquell</td><td>11,50</td></tr>",
                            "<tr><td>Assen</td><td>Pilsner Urquell</td><td>11,50</td></tr>",
                            "<tr><td>Assen</td><td>Gambrinus 10</td><td>11,50</td></tr>",
                            "<tr><td>U Hrocha</td><td>Svijansk? M?z</td><td>10,00</td></tr>",
                            "</table>"
                        ]
                    }
                }
            ],
            "execution_count": 13
        },
        {
            "cell_type": "markdown",
            "source": [
                "13\\. Vypište pro jednotlivá odebíraná piva takové hospody, které z jejich prodeje mají největší zisk (pivo, hospoda, zisk). POZOR: Název piva není unikátní! Hospod s maximálním ziskem z daného piva (prodejni\\_cena – kupni\\_cena) může být více!"
            ],
            "metadata": {
                "azdata_cell_guid": "6baeec07-e502-469c-87eb-8f324b08c3cf"
            },
            "attachments": {}
        },
        {
            "cell_type": "markdown",
            "source": [
                "14\\. Vypište názvy pivovarů a u každého uveďte počet hospod, které od nich odebírají pivo (nazev, pocet). Do výpisu zahrňte i ty pivovary, od nichž neodebírá pivo žádná hospoda (0 nebo NULL ve výpisu)."
            ],
            "metadata": {
                "azdata_cell_guid": "51841272-4dfa-4a8f-bbe0-257a387c5758"
            },
            "attachments": {}
        },
        {
            "cell_type": "markdown",
            "source": [
                "15\\. Vypište názvy hospod a u každé uveďte počet pivovarů, které do nich dodávají pivo (nazev, pocet). Do výpisu zahrňte i ty hospody, které pivo nečepují (0 nebo NULL ve výpisu)."
            ],
            "metadata": {
                "azdata_cell_guid": "8aac1f13-e260-4375-8729-0027edb8cd8b"
            },
            "attachments": {}
        },
        {
            "cell_type": "code",
            "source": [
                "SELECT H.id_hospoda, COUNT(H.id_pivovar) pocet_pivovaru  FROM (\n",
                "    SELECT DISTINCT H.id_hospoda, P.id_pivovar FROM Hospoda H LEFT JOIN Odebira O ON H.id_hospoda = O.id_hospoda LEFT JOIN Pivo P ON O.id_pivo = P.id_pivo\n",
                ") H\n",
                "GROUP BY H.id_hospoda\n",
                ""
            ],
            "metadata": {
                "azdata_cell_guid": "e1dc8e46-6e82-4057-94f2-2983bd6850d0",
                "language": "sql",
                "tags": []
            },
            "outputs": [
                {
                    "output_type": "display_data",
                    "data": {
                        "text/html": "Warning: Null value is eliminated by an aggregate or other SET operation."
                    },
                    "metadata": {}
                },
                {
                    "output_type": "display_data",
                    "data": {
                        "text/html": "(9 rows affected)"
                    },
                    "metadata": {}
                },
                {
                    "output_type": "display_data",
                    "data": {
                        "text/html": "Total execution time: 00:00:00.007"
                    },
                    "metadata": {}
                },
                {
                    "output_type": "execute_result",
                    "metadata": {},
                    "execution_count": 32,
                    "data": {
                        "application/vnd.dataresource+json": {
                            "schema": {
                                "fields": [
                                    {
                                        "name": "id_hospoda"
                                    },
                                    {
                                        "name": "pocet_pivovaru"
                                    }
                                ]
                            },
                            "data": [
                                {
                                    "id_hospoda": "1",
                                    "pocet_pivovaru": "1"
                                },
                                {
                                    "id_hospoda": "2",
                                    "pocet_pivovaru": "1"
                                },
                                {
                                    "id_hospoda": "3",
                                    "pocet_pivovaru": "2"
                                },
                                {
                                    "id_hospoda": "4",
                                    "pocet_pivovaru": "0"
                                },
                                {
                                    "id_hospoda": "5",
                                    "pocet_pivovaru": "2"
                                },
                                {
                                    "id_hospoda": "6",
                                    "pocet_pivovaru": "0"
                                },
                                {
                                    "id_hospoda": "7",
                                    "pocet_pivovaru": "1"
                                },
                                {
                                    "id_hospoda": "8",
                                    "pocet_pivovaru": "1"
                                },
                                {
                                    "id_hospoda": "9",
                                    "pocet_pivovaru": "1"
                                }
                            ]
                        },
                        "text/html": [
                            "<table>",
                            "<tr><th>id_hospoda</th><th>pocet_pivovaru</th></tr>",
                            "<tr><td>1</td><td>1</td></tr>",
                            "<tr><td>2</td><td>1</td></tr>",
                            "<tr><td>3</td><td>2</td></tr>",
                            "<tr><td>4</td><td>0</td></tr>",
                            "<tr><td>5</td><td>2</td></tr>",
                            "<tr><td>6</td><td>0</td></tr>",
                            "<tr><td>7</td><td>1</td></tr>",
                            "<tr><td>8</td><td>1</td></tr>",
                            "<tr><td>9</td><td>1</td></tr>",
                            "</table>"
                        ]
                    }
                }
            ],
            "execution_count": 32
        },
        {
            "cell_type": "markdown",
            "source": [
                "16\\. Vypište průměrné prodejní ceny piv v libereckých hospodách (adresa LIKE '%Liberec%'), které čepují alespoň 2 různá piva (nazev, prumerna\\_cena). POZOR: Název hospody není unikátní!"
            ],
            "metadata": {
                "azdata_cell_guid": "57759bf5-7dab-4dab-ac00-48e2b17641a8"
            },
            "attachments": {}
        },
        {
            "cell_type": "markdown",
            "source": [
                "17\\. Vypište průměrné kupní ceny piv v libereckých hospodách (adresa LIKE '%Liberec%'), které jsou dodávány alespoň do 2 různých hospod (jmeno, prumerna\\_cena). POZOR: Jméno piva není unikátní!"
            ],
            "metadata": {
                "azdata_cell_guid": "6c4f6291-6bdf-4065-9c7c-ddf1170fa308"
            },
            "attachments": {}
        },
        {
            "cell_type": "markdown",
            "source": [
                "18\\. Vypište názvy hospod, ve kterých čepují jedno a více piv od pivovaru Svijany. POZOR: Název hospody není unikátní!"
            ],
            "metadata": {
                "azdata_cell_guid": "0eb45e51-daca-470b-b4df-e3e340805451"
            },
            "attachments": {}
        },
        {
            "cell_type": "markdown",
            "source": [
                "19\\. Vypište názvy hospod, kde nečepují pivo Pilsner Urquell, ale čepují jakékoli pivo od pivovaru Svijany."
            ],
            "metadata": {
                "azdata_cell_guid": "c09f4119-2cdb-4242-a119-73be37460efe"
            },
            "attachments": {}
        },
        {
            "cell_type": "code",
            "source": [
                "SELECT H.nazev FROM Hospoda H, (\n",
                "    -- cepuji piva ze Svijan\n",
                "    SELECT DISTINCT O.id_hospoda FROM Odebira O, Pivo P, (\n",
                "        SELECT * FROM Pivovar \n",
                "        WHERE Pivovar.nazev = 'Svijany'\n",
                "    ) Svijany\n",
                "    WHERE O.id_pivo = P.id_pivo\n",
                "    AND P.id_pivovar = Svijany.id_pivovar\n",
                "    -- nejsou mezi hospodami co odeviraji 'Pilsner Urquel'\n",
                "    AND O.id_hospoda NOT IN (\n",
                "        SELECT DISTINCT O.id_hospoda FROM Odebira O, Pivo P \n",
                "        WHERE P.jmeno = 'Pilsner Urquel'\n",
                "    )\n",
                ") Odbery\n",
                "WHERE Odbery.id_hospoda = H.id_hospoda"
            ],
            "metadata": {
                "azdata_cell_guid": "a0bfa7fd-61a1-4199-828c-8b1098f778fb",
                "language": "sql"
            },
            "outputs": [
                {
                    "output_type": "display_data",
                    "data": {
                        "text/html": "(5 rows affected)"
                    },
                    "metadata": {}
                },
                {
                    "output_type": "display_data",
                    "data": {
                        "text/html": "Total execution time: 00:00:00.025"
                    },
                    "metadata": {}
                },
                {
                    "output_type": "execute_result",
                    "metadata": {},
                    "execution_count": 20,
                    "data": {
                        "application/vnd.dataresource+json": {
                            "schema": {
                                "fields": [
                                    {
                                        "name": "nazev"
                                    }
                                ]
                            },
                            "data": [
                                {
                                    "nazev": "U Balcar?"
                                },
                                {
                                    "nazev": "U Kalicha"
                                },
                                {
                                    "nazev": "Formanka"
                                },
                                {
                                    "nazev": "U Medv?da"
                                },
                                {
                                    "nazev": "U Hrocha"
                                }
                            ]
                        },
                        "text/html": [
                            "<table>",
                            "<tr><th>nazev</th></tr>",
                            "<tr><td>U Balcar?</td></tr>",
                            "<tr><td>U Kalicha</td></tr>",
                            "<tr><td>Formanka</td></tr>",
                            "<tr><td>U Medv?da</td></tr>",
                            "<tr><td>U Hrocha</td></tr>",
                            "</table>"
                        ]
                    }
                }
            ],
            "execution_count": 20
        },
        {
            "cell_type": "markdown",
            "source": [
                "20\\. Vypište názvy piv, která nečepují v hospodě U Medvěda, ale čepují v hospodě U Kalicha."
            ],
            "metadata": {
                "azdata_cell_guid": "78166238-7880-4ae6-acaa-25d7067f84be"
            },
            "attachments": {}
        }
    ]
}