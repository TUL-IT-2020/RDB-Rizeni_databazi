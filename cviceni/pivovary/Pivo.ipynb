{
    "metadata": {
        "kernelspec": {
            "name": "SQL",
            "display_name": "SQL",
            "language": "sql"
        },
        "language_info": {
            "name": "sql",
            "version": ""
        }
    },
    "nbformat_minor": 2,
    "nbformat": 4,
    "cells": [
        {
            "cell_type": "markdown",
            "source": [
                "# Dotazy do databáze Pivo\n",
                "## Pivo - zadání SQL\n",
                "1. Vypište názvy hospod, které neodebírají žádné pivo od pivovaru Svijany. Do výsledku zahrňte i hospody, které vůbec neodebírají pivo.\n",
                "2. Vypište názvy pivovarů, které nedodávají pivo do žádné hospody s názvem Formanka.      \n",
                "3. Vypište názvy pivovarů, které dodávají pivo do tří a více hospod (nazev, pocet).\n",
                "4. Vypište názvy hospod, do kterých dodává dva a více pivovarů (nazev, pocet).\n",
                "5. Vypište jména piv, jejichž výroba se v určitém pivovaru (pivo stejného jména se ve stejném pivovaru vyrábělo/vyrábí v různá časová období, tedy více než jednou).  \n",
                "6. Vypište dvojice názvů (pivo_1, pivo_2) podobných piv. Podobná piva mají stejný obsah alkoholu a stejnou hořkost. Pokud jsou však zároveň ze stejného pivovaru a jmenují se stejně, ve výpisu nebudou.\n",
                "7. Vypište názvy hospod, do nichž dodává pivo pouze pivovar Svijany.\n",
                "8. Vypište názvy hospod, do nichž dodává pivo zároveň pivovar Svijany i Plzeňský Prazdroj.\n",
                "9. Vypište jména piv, které čepuje pouze jedna hospoda. \n",
                "10. Vypište jména piv, které neodebírají hospody s názvem Formanka.\n",
                "11. Vypište názvy hospod, které nečepují piva se jménem 'Pilsner Urquell'.\n",
                "12. Vypište pro jednotlivé hospody taková jména piv, z jejichž prodeje má hospoda maximální zisk (hospoda, pivo, zisk). POZOR: Název hospody není unikátní! Piv s maximálním ziskem (prodejni_cena – kupni_cena) může být v hospodě více!  \n",
                "13. Vypište pro jednotlivá odebíraná piva takové hospody, které z jejich prodeje mají největší zisk (pivo, hospoda, zisk). POZOR: Název piva není unikátní! Hospod s maximálním ziskem z daného piva (prodejni_cena – kupni_cena) může být více!\n",
                "14. Vypište názvy pivovarů a u každého uveďte počet hospod, které od nich odebírají pivo (nazev, pocet). Do výpisu zahrňte i ty pivovary, od nichž neodebírá pivo žádná hospoda (0 nebo NULL ve výpisu).\n",
                "15. Vypište názvy hospod a u každé uveďte počet pivovarů, které do nich dodávají pivo (nazev, pocet). Do výpisu zahrňte i ty hospody, které pivo nečepují (0 nebo NULL ve výpisu).\n",
                "16. Vypište průměrné prodejní ceny piv v libereckých hospodách (adresa LIKE '%Liberec%'), které čepují alespoň 2 různá piva (nazev, prumerna_cena). POZOR: Název hospody není unikátní!\n",
                "17. Vypište průměrné kupní ceny piv v libereckých hospodách (adresa LIKE '%Liberec%'), které jsou dodávány alespoň do 2 různých hospod (jmeno, prumerna_cena). POZOR: Jméno piva není unikátní!  \n",
                "18. Vypište názvy hospod, ve kterých čepují jedno a více piv od pivovaru Svijany. POZOR: Název hospody není unikátní!  \n",
                "19. Vypište názvy hospod, kde nečepují pivo Pilsner Urquell, ale čepují jakékoli pivo od pivovaru Svijany.\n",
                "20. Vypište názvy piv, která nečepují v hospodě U Medvěda, ale čepují v hospodě U Kalicha.\n",
                "## Podíváme se co se schovává v tabulce Pivo:"
            ],
            "metadata": {
                "language": "sql",
                "azdata_cell_guid": "2ca81cbb-b75b-4a21-8209-0e200da3462a"
            },
            "attachments": {}
        },
        {
            "cell_type": "code",
            "source": [
                "SELECT * FROM [Pivo]"
            ],
            "metadata": {
                "azdata_cell_guid": "6fde51fd-9a19-4b34-a41e-d754688d05d0",
                "language": "sql"
            },
            "outputs": [
                {
                    "output_type": "display_data",
                    "data": {
                        "text/html": "(11 rows affected)"
                    },
                    "metadata": {}
                },
                {
                    "output_type": "display_data",
                    "data": {
                        "text/html": "Total execution time: 00:00:00.033"
                    },
                    "metadata": {}
                },
                {
                    "output_type": "execute_result",
                    "execution_count": 2,
                    "data": {
                        "application/vnd.dataresource+json": {
                            "schema": {
                                "fields": [
                                    {
                                        "name": "id_pivo"
                                    },
                                    {
                                        "name": "id_pivovar"
                                    },
                                    {
                                        "name": "jmeno"
                                    },
                                    {
                                        "name": "alkohol"
                                    },
                                    {
                                        "name": "horkost"
                                    },
                                    {
                                        "name": "vyroba_od"
                                    },
                                    {
                                        "name": "vyroba_do"
                                    }
                                ]
                            },
                            "data": [
                                {
                                    "id_pivo": "1",
                                    "id_pivovar": "1",
                                    "jmeno": "Svijansk? Kn?e",
                                    "alkohol": "4,5",
                                    "horkost": "20",
                                    "vyroba_od": "2000-10-10 00:00:00.000",
                                    "vyroba_do": "NULL"
                                },
                                {
                                    "id_pivo": "2",
                                    "id_pivovar": "1",
                                    "jmeno": "Svijansk? Kn?na",
                                    "alkohol": "4,7",
                                    "horkost": "15",
                                    "vyroba_od": "2000-10-20 00:00:00.000",
                                    "vyroba_do": "NULL"
                                },
                                {
                                    "id_pivo": "3",
                                    "id_pivovar": "1",
                                    "jmeno": "Svijansk? Vozka",
                                    "alkohol": "0",
                                    "horkost": "10",
                                    "vyroba_od": "2020-10-10 00:00:00.000",
                                    "vyroba_do": "NULL"
                                },
                                {
                                    "id_pivo": "4",
                                    "id_pivovar": "2",
                                    "jmeno": "Pilsner Urquell",
                                    "alkohol": "4,2",
                                    "horkost": "10",
                                    "vyroba_od": "1900-10-10 00:00:00.000",
                                    "vyroba_do": "NULL"
                                },
                                {
                                    "id_pivo": "5",
                                    "id_pivovar": "2",
                                    "jmeno": "Gambrinus 10",
                                    "alkohol": "4",
                                    "horkost": "8",
                                    "vyroba_od": "1980-10-20 00:00:00.000",
                                    "vyroba_do": "NULL"
                                },
                                {
                                    "id_pivo": "6",
                                    "id_pivovar": "3",
                                    "jmeno": "Des?tka",
                                    "alkohol": "4,2",
                                    "horkost": "10",
                                    "vyroba_od": "1999-10-10 00:00:00.000",
                                    "vyroba_do": "NULL"
                                },
                                {
                                    "id_pivo": "7",
                                    "id_pivovar": "4",
                                    "jmeno": "Des?tka",
                                    "alkohol": "4",
                                    "horkost": "8",
                                    "vyroba_od": "1989-10-20 00:00:00.000",
                                    "vyroba_do": "1999-10-09 00:00:00.000"
                                },
                                {
                                    "id_pivo": "8",
                                    "id_pivovar": "3",
                                    "jmeno": "Des?tka",
                                    "alkohol": "4,25",
                                    "horkost": "11",
                                    "vyroba_od": "1966-10-10 00:00:00.000",
                                    "vyroba_do": "NULL"
                                },
                                {
                                    "id_pivo": "9",
                                    "id_pivovar": "1",
                                    "jmeno": "Baron",
                                    "alkohol": "6,5",
                                    "horkost": "15",
                                    "vyroba_od": "2010-11-11 00:00:00.000",
                                    "vyroba_do": "2010-12-11 00:00:00.000"
                                },
                                {
                                    "id_pivo": "10",
                                    "id_pivovar": "1",
                                    "jmeno": "Baron",
                                    "alkohol": "6,5",
                                    "horkost": "15",
                                    "vyroba_od": "2020-11-11 00:00:00.000",
                                    "vyroba_do": "2020-12-11 00:00:00.000"
                                },
                                {
                                    "id_pivo": "11",
                                    "id_pivovar": "1",
                                    "jmeno": "Svijansk? M?z",
                                    "alkohol": "4,5",
                                    "horkost": "22",
                                    "vyroba_od": "2019-10-10 00:00:00.000",
                                    "vyroba_do": "NULL"
                                }
                            ]
                        },
                        "text/html": "<table><tr><th>id_pivo</th><th>id_pivovar</th><th>jmeno</th><th>alkohol</th><th>horkost</th><th>vyroba_od</th><th>vyroba_do</th></tr><tr><td>1</td><td>1</td><td>Svijansk? Kn?e</td><td>4,5</td><td>20</td><td>2000-10-10 00:00:00.000</td><td>NULL</td></tr><tr><td>2</td><td>1</td><td>Svijansk? Kn?na</td><td>4,7</td><td>15</td><td>2000-10-20 00:00:00.000</td><td>NULL</td></tr><tr><td>3</td><td>1</td><td>Svijansk? Vozka</td><td>0</td><td>10</td><td>2020-10-10 00:00:00.000</td><td>NULL</td></tr><tr><td>4</td><td>2</td><td>Pilsner Urquell</td><td>4,2</td><td>10</td><td>1900-10-10 00:00:00.000</td><td>NULL</td></tr><tr><td>5</td><td>2</td><td>Gambrinus 10</td><td>4</td><td>8</td><td>1980-10-20 00:00:00.000</td><td>NULL</td></tr><tr><td>6</td><td>3</td><td>Des?tka</td><td>4,2</td><td>10</td><td>1999-10-10 00:00:00.000</td><td>NULL</td></tr><tr><td>7</td><td>4</td><td>Des?tka</td><td>4</td><td>8</td><td>1989-10-20 00:00:00.000</td><td>1999-10-09 00:00:00.000</td></tr><tr><td>8</td><td>3</td><td>Des?tka</td><td>4,25</td><td>11</td><td>1966-10-10 00:00:00.000</td><td>NULL</td></tr><tr><td>9</td><td>1</td><td>Baron</td><td>6,5</td><td>15</td><td>2010-11-11 00:00:00.000</td><td>2010-12-11 00:00:00.000</td></tr><tr><td>10</td><td>1</td><td>Baron</td><td>6,5</td><td>15</td><td>2020-11-11 00:00:00.000</td><td>2020-12-11 00:00:00.000</td></tr><tr><td>11</td><td>1</td><td>Svijansk? M?z</td><td>4,5</td><td>22</td><td>2019-10-10 00:00:00.000</td><td>NULL</td></tr></table>"
                    },
                    "metadata": {}
                }
            ],
            "execution_count": 2
        },
        {
            "cell_type": "markdown",
            "source": [
                "## Full ultimate outer join:"
            ],
            "metadata": {
                "language": "sql",
                "azdata_cell_guid": "edb06157-4458-487a-b212-c945f67fec81"
            },
            "attachments": {}
        },
        {
            "cell_type": "code",
            "source": [
                "SELECT * FROM Pivovar FULL JOIN Pivo \n",
                "    ON Pivovar.id_pivovar = Pivo.id_pivovar FULL JOIN Odebira\n",
                "        ON Odebira.id_pivo = Pivo.id_pivo FULL JOIN Hospoda\n",
                "            ON Odebira.id_hospoda = Hospoda.id_hospoda"
            ],
            "metadata": {
                "azdata_cell_guid": "4efd9c94-9952-49c4-b49b-55a294d3f7d2",
                "language": "sql"
            },
            "outputs": [
                {
                    "output_type": "display_data",
                    "data": {
                        "text/html": "(20 rows affected)"
                    },
                    "metadata": {}
                },
                {
                    "output_type": "display_data",
                    "data": {
                        "text/html": "Total execution time: 00:00:00.015"
                    },
                    "metadata": {}
                },
                {
                    "output_type": "execute_result",
                    "metadata": {},
                    "execution_count": 7,
                    "data": {
                        "application/vnd.dataresource+json": {
                            "schema": {
                                "fields": [
                                    {
                                        "name": "id_pivovar"
                                    },
                                    {
                                        "name": "nazev"
                                    },
                                    {
                                        "name": "adresa"
                                    },
                                    {
                                        "name": "majitel"
                                    },
                                    {
                                        "name": "id_pivo"
                                    },
                                    {
                                        "name": "id_pivovar"
                                    },
                                    {
                                        "name": "jmeno"
                                    },
                                    {
                                        "name": "alkohol"
                                    },
                                    {
                                        "name": "horkost"
                                    },
                                    {
                                        "name": "vyroba_od"
                                    },
                                    {
                                        "name": "vyroba_do"
                                    },
                                    {
                                        "name": "id_pivo"
                                    },
                                    {
                                        "name": "id_hospoda"
                                    },
                                    {
                                        "name": "kupni_cena"
                                    },
                                    {
                                        "name": "prodejni_cena"
                                    },
                                    {
                                        "name": "id_hospoda"
                                    },
                                    {
                                        "name": "nazev"
                                    },
                                    {
                                        "name": "adresa"
                                    }
                                ]
                            },
                            "data": [
                                {
                                    "id_pivovar": "1",
                                    "nazev": "U Balcar?",
                                    "adresa": "Husova 20, Liberec",
                                    "majitel": "LIF Group",
                                    "id_pivo": "1",
                                    "jmeno": "Svijansk? Kn?e",
                                    "alkohol": "4,5",
                                    "horkost": "20",
                                    "vyroba_od": "2000-10-10 00:00:00.000",
                                    "vyroba_do": "NULL",
                                    "id_hospoda": "1",
                                    "kupni_cena": "25,50",
                                    "prodejni_cena": "35,00"
                                },
                                {
                                    "id_pivovar": "1",
                                    "nazev": "U Kalicha",
                                    "adresa": "?i?kova 10, Liberec",
                                    "majitel": "LIF Group",
                                    "id_pivo": "1",
                                    "jmeno": "Svijansk? Kn?e",
                                    "alkohol": "4,5",
                                    "horkost": "20",
                                    "vyroba_od": "2000-10-10 00:00:00.000",
                                    "vyroba_do": "NULL",
                                    "id_hospoda": "2",
                                    "kupni_cena": "25,50",
                                    "prodejni_cena": "35,00"
                                },
                                {
                                    "id_pivovar": "1",
                                    "nazev": "U Medv?da",
                                    "adresa": "Kate?insk? 8, Liberec",
                                    "majitel": "LIF Group",
                                    "id_pivo": "1",
                                    "jmeno": "Svijansk? Kn?e",
                                    "alkohol": "4,5",
                                    "horkost": "20",
                                    "vyroba_od": "2000-10-10 00:00:00.000",
                                    "vyroba_do": "NULL",
                                    "id_hospoda": "5",
                                    "kupni_cena": "25,50",
                                    "prodejni_cena": "35,00"
                                },
                                {
                                    "id_pivovar": "1",
                                    "nazev": "U Balcar?",
                                    "adresa": "Husova 20, Liberec",
                                    "majitel": "LIF Group",
                                    "id_pivo": "2",
                                    "jmeno": "Svijansk? Kn?na",
                                    "alkohol": "4,7",
                                    "horkost": "15",
                                    "vyroba_od": "2000-10-20 00:00:00.000",
                                    "vyroba_do": "NULL",
                                    "id_hospoda": "1",
                                    "kupni_cena": "27,50",
                                    "prodejni_cena": "37,50"
                                },
                                {
                                    "id_pivovar": "1",
                                    "nazev": "U Medv?da",
                                    "adresa": "Kate?insk? 8, Liberec",
                                    "majitel": "LIF Group",
                                    "id_pivo": "2",
                                    "jmeno": "Svijansk? Kn?na",
                                    "alkohol": "4,7",
                                    "horkost": "15",
                                    "vyroba_od": "2000-10-20 00:00:00.000",
                                    "vyroba_do": "NULL",
                                    "id_hospoda": "5",
                                    "kupni_cena": "25,50",
                                    "prodejni_cena": "35,00"
                                },
                                {
                                    "id_pivovar": "1",
                                    "nazev": "U Kalicha",
                                    "adresa": "?i?kova 10, Liberec",
                                    "majitel": "LIF Group",
                                    "id_pivo": "3",
                                    "jmeno": "Svijansk? Vozka",
                                    "alkohol": "0",
                                    "horkost": "10",
                                    "vyroba_od": "2020-10-10 00:00:00.000",
                                    "vyroba_do": "NULL",
                                    "id_hospoda": "2",
                                    "kupni_cena": "35,50",
                                    "prodejni_cena": "46,00"
                                },
                                {
                                    "id_pivovar": "1",
                                    "nazev": "Formanka",
                                    "adresa": "Nusle 5, Praha",
                                    "majitel": "LIF Group",
                                    "id_pivo": "3",
                                    "jmeno": "Svijansk? Vozka",
                                    "alkohol": "0",
                                    "horkost": "10",
                                    "vyroba_od": "2020-10-10 00:00:00.000",
                                    "vyroba_do": "NULL",
                                    "id_hospoda": "3",
                                    "kupni_cena": "35,50",
                                    "prodejni_cena": "45,00"
                                },
                                {
                                    "id_pivovar": "1",
                                    "nazev": "NULL",
                                    "adresa": "NULL",
                                    "majitel": "LIF Group",
                                    "id_pivo": "NULL",
                                    "jmeno": "Baron",
                                    "alkohol": "6,5",
                                    "horkost": "15",
                                    "vyroba_od": "2010-11-11 00:00:00.000",
                                    "vyroba_do": "2010-12-11 00:00:00.000",
                                    "id_hospoda": "NULL",
                                    "kupni_cena": "NULL",
                                    "prodejni_cena": "NULL"
                                },
                                {
                                    "id_pivovar": "1",
                                    "nazev": "NULL",
                                    "adresa": "NULL",
                                    "majitel": "LIF Group",
                                    "id_pivo": "NULL",
                                    "jmeno": "Baron",
                                    "alkohol": "6,5",
                                    "horkost": "15",
                                    "vyroba_od": "2020-11-11 00:00:00.000",
                                    "vyroba_do": "2020-12-11 00:00:00.000",
                                    "id_hospoda": "NULL",
                                    "kupni_cena": "NULL",
                                    "prodejni_cena": "NULL"
                                },
                                {
                                    "id_pivovar": "1",
                                    "nazev": "U Hrocha",
                                    "adresa": "Hrochova 69, Liberec",
                                    "majitel": "LIF Group",
                                    "id_pivo": "11",
                                    "jmeno": "Svijansk? M?z",
                                    "alkohol": "4,5",
                                    "horkost": "22",
                                    "vyroba_od": "2019-10-10 00:00:00.000",
                                    "vyroba_do": "NULL",
                                    "id_hospoda": "9",
                                    "kupni_cena": "20,00",
                                    "prodejni_cena": "30,00"
                                },
                                {
                                    "id_pivovar": "2",
                                    "nazev": "Formanka",
                                    "adresa": "Nusle 5, Praha",
                                    "majitel": "Asahi Group Holdings",
                                    "id_pivo": "4",
                                    "jmeno": "Pilsner Urquell",
                                    "alkohol": "4,2",
                                    "horkost": "10",
                                    "vyroba_od": "1900-10-10 00:00:00.000",
                                    "vyroba_do": "NULL",
                                    "id_hospoda": "3",
                                    "kupni_cena": "28,50",
                                    "prodejni_cena": "39,50"
                                },
                                {
                                    "id_pivovar": "2",
                                    "nazev": "??zk?rna Kopretina",
                                    "adresa": "T?ebo? 1122",
                                    "majitel": "Asahi Group Holdings",
                                    "id_pivo": "4",
                                    "jmeno": "Pilsner Urquell",
                                    "alkohol": "4,2",
                                    "horkost": "10",
                                    "vyroba_od": "1900-10-10 00:00:00.000",
                                    "vyroba_do": "NULL",
                                    "id_hospoda": "7",
                                    "kupni_cena": "28,50",
                                    "prodejni_cena": "40,00"
                                },
                                {
                                    "id_pivovar": "2",
                                    "nazev": "Assen",
                                    "adresa": "U Hr?bk? 3060, Ostrava-jih",
                                    "majitel": "Asahi Group Holdings",
                                    "id_pivo": "4",
                                    "jmeno": "Pilsner Urquell",
                                    "alkohol": "4,2",
                                    "horkost": "10",
                                    "vyroba_od": "1900-10-10 00:00:00.000",
                                    "vyroba_do": "NULL",
                                    "id_hospoda": "8",
                                    "kupni_cena": "28,50",
                                    "prodejni_cena": "40,00"
                                },
                                {
                                    "id_pivovar": "2",
                                    "nazev": "U Medv?da",
                                    "adresa": "Kate?insk? 8, Liberec",
                                    "majitel": "Asahi Group Holdings",
                                    "id_pivo": "5",
                                    "jmeno": "Gambrinus 10",
                                    "alkohol": "4",
                                    "horkost": "8",
                                    "vyroba_od": "1980-10-20 00:00:00.000",
                                    "vyroba_do": "NULL",
                                    "id_hospoda": "5",
                                    "kupni_cena": "25,50",
                                    "prodejni_cena": "34,50"
                                },
                                {
                                    "id_pivovar": "2",
                                    "nazev": "Assen",
                                    "adresa": "U Hr?bk? 3060, Ostrava-jih",
                                    "majitel": "Asahi Group Holdings",
                                    "id_pivo": "5",
                                    "jmeno": "Gambrinus 10",
                                    "alkohol": "4",
                                    "horkost": "8",
                                    "vyroba_od": "1980-10-20 00:00:00.000",
                                    "vyroba_do": "NULL",
                                    "id_hospoda": "8",
                                    "kupni_cena": "28,50",
                                    "prodejni_cena": "40,00"
                                },
                                {
                                    "id_pivovar": "3",
                                    "nazev": "NULL",
                                    "adresa": "NULL",
                                    "majitel": "St?tn? podnik",
                                    "id_pivo": "NULL",
                                    "jmeno": "Des?tka",
                                    "alkohol": "4,2",
                                    "horkost": "10",
                                    "vyroba_od": "1999-10-10 00:00:00.000",
                                    "vyroba_do": "NULL",
                                    "id_hospoda": "NULL",
                                    "kupni_cena": "NULL",
                                    "prodejni_cena": "NULL"
                                },
                                {
                                    "id_pivovar": "3",
                                    "nazev": "NULL",
                                    "adresa": "NULL",
                                    "majitel": "St?tn? podnik",
                                    "id_pivo": "NULL",
                                    "jmeno": "Des?tka",
                                    "alkohol": "4,25",
                                    "horkost": "11",
                                    "vyroba_od": "1966-10-10 00:00:00.000",
                                    "vyroba_do": "NULL",
                                    "id_hospoda": "NULL",
                                    "kupni_cena": "NULL",
                                    "prodejni_cena": "NULL"
                                },
                                {
                                    "id_pivovar": "4",
                                    "nazev": "NULL",
                                    "adresa": "NULL",
                                    "majitel": "MolsonCoors Brewing Co.",
                                    "id_pivo": "NULL",
                                    "jmeno": "Des?tka",
                                    "alkohol": "4",
                                    "horkost": "8",
                                    "vyroba_od": "1989-10-20 00:00:00.000",
                                    "vyroba_do": "1999-10-09 00:00:00.000",
                                    "id_hospoda": "NULL",
                                    "kupni_cena": "NULL",
                                    "prodejni_cena": "NULL"
                                },
                                {
                                    "id_pivovar": "NULL",
                                    "nazev": "U Tet?eva",
                                    "adresa": "Ferdinandov 50",
                                    "majitel": "NULL",
                                    "id_pivo": "NULL",
                                    "jmeno": "NULL",
                                    "alkohol": "NULL",
                                    "horkost": "NULL",
                                    "vyroba_od": "NULL",
                                    "vyroba_do": "NULL",
                                    "id_hospoda": "6",
                                    "kupni_cena": "NULL",
                                    "prodejni_cena": "NULL"
                                },
                                {
                                    "id_pivovar": "NULL",
                                    "nazev": "Formanka",
                                    "adresa": "Brn?nsk? 15, Brno",
                                    "majitel": "NULL",
                                    "id_pivo": "NULL",
                                    "jmeno": "NULL",
                                    "alkohol": "NULL",
                                    "horkost": "NULL",
                                    "vyroba_od": "NULL",
                                    "vyroba_do": "NULL",
                                    "id_hospoda": "4",
                                    "kupni_cena": "NULL",
                                    "prodejni_cena": "NULL"
                                }
                            ]
                        },
                        "text/html": [
                            "<table>",
                            "<tr><th>id_pivovar</th><th>nazev</th><th>adresa</th><th>majitel</th><th>id_pivo</th><th>id_pivovar</th><th>jmeno</th><th>alkohol</th><th>horkost</th><th>vyroba_od</th><th>vyroba_do</th><th>id_pivo</th><th>id_hospoda</th><th>kupni_cena</th><th>prodejni_cena</th><th>id_hospoda</th><th>nazev</th><th>adresa</th></tr>",
                            "<tr><td>1</td><td>Svijany</td><td>Svijansk? ?jezd</td><td>LIF Group</td><td>1</td><td>1</td><td>Svijansk? Kn?e</td><td>4,5</td><td>20</td><td>2000-10-10 00:00:00.000</td><td>NULL</td><td>1</td><td>1</td><td>25,50</td><td>35,00</td><td>1</td><td>U Balcar?</td><td>Husova 20, Liberec</td></tr>",
                            "<tr><td>1</td><td>Svijany</td><td>Svijansk? ?jezd</td><td>LIF Group</td><td>1</td><td>1</td><td>Svijansk? Kn?e</td><td>4,5</td><td>20</td><td>2000-10-10 00:00:00.000</td><td>NULL</td><td>1</td><td>2</td><td>25,50</td><td>35,00</td><td>2</td><td>U Kalicha</td><td>?i?kova 10, Liberec</td></tr>",
                            "<tr><td>1</td><td>Svijany</td><td>Svijansk? ?jezd</td><td>LIF Group</td><td>1</td><td>1</td><td>Svijansk? Kn?e</td><td>4,5</td><td>20</td><td>2000-10-10 00:00:00.000</td><td>NULL</td><td>1</td><td>5</td><td>25,50</td><td>35,00</td><td>5</td><td>U Medv?da</td><td>Kate?insk? 8, Liberec</td></tr>",
                            "<tr><td>1</td><td>Svijany</td><td>Svijansk? ?jezd</td><td>LIF Group</td><td>2</td><td>1</td><td>Svijansk? Kn?na</td><td>4,7</td><td>15</td><td>2000-10-20 00:00:00.000</td><td>NULL</td><td>2</td><td>1</td><td>27,50</td><td>37,50</td><td>1</td><td>U Balcar?</td><td>Husova 20, Liberec</td></tr>",
                            "<tr><td>1</td><td>Svijany</td><td>Svijansk? ?jezd</td><td>LIF Group</td><td>2</td><td>1</td><td>Svijansk? Kn?na</td><td>4,7</td><td>15</td><td>2000-10-20 00:00:00.000</td><td>NULL</td><td>2</td><td>5</td><td>25,50</td><td>35,00</td><td>5</td><td>U Medv?da</td><td>Kate?insk? 8, Liberec</td></tr>",
                            "<tr><td>1</td><td>Svijany</td><td>Svijansk? ?jezd</td><td>LIF Group</td><td>3</td><td>1</td><td>Svijansk? Vozka</td><td>0</td><td>10</td><td>2020-10-10 00:00:00.000</td><td>NULL</td><td>3</td><td>2</td><td>35,50</td><td>46,00</td><td>2</td><td>U Kalicha</td><td>?i?kova 10, Liberec</td></tr>",
                            "<tr><td>1</td><td>Svijany</td><td>Svijansk? ?jezd</td><td>LIF Group</td><td>3</td><td>1</td><td>Svijansk? Vozka</td><td>0</td><td>10</td><td>2020-10-10 00:00:00.000</td><td>NULL</td><td>3</td><td>3</td><td>35,50</td><td>45,00</td><td>3</td><td>Formanka</td><td>Nusle 5, Praha</td></tr>",
                            "<tr><td>1</td><td>Svijany</td><td>Svijansk? ?jezd</td><td>LIF Group</td><td>9</td><td>1</td><td>Baron</td><td>6,5</td><td>15</td><td>2010-11-11 00:00:00.000</td><td>2010-12-11 00:00:00.000</td><td>NULL</td><td>NULL</td><td>NULL</td><td>NULL</td><td>NULL</td><td>NULL</td><td>NULL</td></tr>",
                            "<tr><td>1</td><td>Svijany</td><td>Svijansk? ?jezd</td><td>LIF Group</td><td>10</td><td>1</td><td>Baron</td><td>6,5</td><td>15</td><td>2020-11-11 00:00:00.000</td><td>2020-12-11 00:00:00.000</td><td>NULL</td><td>NULL</td><td>NULL</td><td>NULL</td><td>NULL</td><td>NULL</td><td>NULL</td></tr>",
                            "<tr><td>1</td><td>Svijany</td><td>Svijansk? ?jezd</td><td>LIF Group</td><td>11</td><td>1</td><td>Svijansk? M?z</td><td>4,5</td><td>22</td><td>2019-10-10 00:00:00.000</td><td>NULL</td><td>11</td><td>9</td><td>20,00</td><td>30,00</td><td>9</td><td>U Hrocha</td><td>Hrochova 69, Liberec</td></tr>",
                            "<tr><td>2</td><td>Plze?sk? Prazdroj</td><td>Plze?</td><td>Asahi Group Holdings</td><td>4</td><td>2</td><td>Pilsner Urquell</td><td>4,2</td><td>10</td><td>1900-10-10 00:00:00.000</td><td>NULL</td><td>4</td><td>3</td><td>28,50</td><td>39,50</td><td>3</td><td>Formanka</td><td>Nusle 5, Praha</td></tr>",
                            "<tr><td>2</td><td>Plze?sk? Prazdroj</td><td>Plze?</td><td>Asahi Group Holdings</td><td>4</td><td>2</td><td>Pilsner Urquell</td><td>4,2</td><td>10</td><td>1900-10-10 00:00:00.000</td><td>NULL</td><td>4</td><td>7</td><td>28,50</td><td>40,00</td><td>7</td><td>??zk?rna Kopretina</td><td>T?ebo? 1122</td></tr>",
                            "<tr><td>2</td><td>Plze?sk? Prazdroj</td><td>Plze?</td><td>Asahi Group Holdings</td><td>4</td><td>2</td><td>Pilsner Urquell</td><td>4,2</td><td>10</td><td>1900-10-10 00:00:00.000</td><td>NULL</td><td>4</td><td>8</td><td>28,50</td><td>40,00</td><td>8</td><td>Assen</td><td>U Hr?bk? 3060, Ostrava-jih</td></tr>",
                            "<tr><td>2</td><td>Plze?sk? Prazdroj</td><td>Plze?</td><td>Asahi Group Holdings</td><td>5</td><td>2</td><td>Gambrinus 10</td><td>4</td><td>8</td><td>1980-10-20 00:00:00.000</td><td>NULL</td><td>5</td><td>5</td><td>25,50</td><td>34,50</td><td>5</td><td>U Medv?da</td><td>Kate?insk? 8, Liberec</td></tr>",
                            "<tr><td>2</td><td>Plze?sk? Prazdroj</td><td>Plze?</td><td>Asahi Group Holdings</td><td>5</td><td>2</td><td>Gambrinus 10</td><td>4</td><td>8</td><td>1980-10-20 00:00:00.000</td><td>NULL</td><td>5</td><td>8</td><td>28,50</td><td>40,00</td><td>8</td><td>Assen</td><td>U Hr?bk? 3060, Ostrava-jih</td></tr>",
                            "<tr><td>3</td><td>Bud?jovick? Budvar</td><td>?esk? Bud?jovice</td><td>St?tn? podnik</td><td>6</td><td>3</td><td>Des?tka</td><td>4,2</td><td>10</td><td>1999-10-10 00:00:00.000</td><td>NULL</td><td>NULL</td><td>NULL</td><td>NULL</td><td>NULL</td><td>NULL</td><td>NULL</td><td>NULL</td></tr>",
                            "<tr><td>3</td><td>Bud?jovick? Budvar</td><td>?esk? Bud?jovice</td><td>St?tn? podnik</td><td>8</td><td>3</td><td>Des?tka</td><td>4,25</td><td>11</td><td>1966-10-10 00:00:00.000</td><td>NULL</td><td>NULL</td><td>NULL</td><td>NULL</td><td>NULL</td><td>NULL</td><td>NULL</td><td>NULL</td></tr>",
                            "<tr><td>4</td><td>Staropramen</td><td>Praha</td><td>MolsonCoors Brewing Co.</td><td>7</td><td>4</td><td>Des?tka</td><td>4</td><td>8</td><td>1989-10-20 00:00:00.000</td><td>1999-10-09 00:00:00.000</td><td>NULL</td><td>NULL</td><td>NULL</td><td>NULL</td><td>NULL</td><td>NULL</td><td>NULL</td></tr>",
                            "<tr><td>NULL</td><td>NULL</td><td>NULL</td><td>NULL</td><td>NULL</td><td>NULL</td><td>NULL</td><td>NULL</td><td>NULL</td><td>NULL</td><td>NULL</td><td>NULL</td><td>NULL</td><td>NULL</td><td>NULL</td><td>6</td><td>U Tet?eva</td><td>Ferdinandov 50</td></tr>",
                            "<tr><td>NULL</td><td>NULL</td><td>NULL</td><td>NULL</td><td>NULL</td><td>NULL</td><td>NULL</td><td>NULL</td><td>NULL</td><td>NULL</td><td>NULL</td><td>NULL</td><td>NULL</td><td>NULL</td><td>NULL</td><td>4</td><td>Formanka</td><td>Brn?nsk? 15, Brno</td></tr>",
                            "</table>"
                        ]
                    }
                }
            ],
            "execution_count": 7
        },
        {
            "cell_type": "markdown",
            "source": [
                "  \n",
                "\n",
                "3\\. Vypište názvy pivovarů, které dodávají pivo do tří a více hospod (nazev, pocet).\n",
                "\n",
                "4\\. Vypište názvy hospod, do kterých dodává dva a více pivovarů (nazev, pocet).\n",
                "\n",
                "5\\. Vypište jména piv, jejichž výroba se v určitém pivovaru (pivo stejného jména se ve stejném pivovaru vyrábělo/vyrábí v různá časová období, tedy více než jednou).\n",
                "\n",
                "6\\. Vypište dvojice názvů (pivo\\_1, pivo\\_2) podobných piv. Podobná piva mají stejný obsah alkoholu a stejnou hořkost. Pokud jsou však zároveň ze stejného pivovaru a jmenují se stejně, ve výpisu nebudou.\n",
                "\n",
                "7\\. Vypište názvy hospod, do nichž dodává pivo pouze pivovar Svijany.\n",
                "\n",
                "8\\. Vypište názvy hospod, do nichž dodává pivo zároveň pivovar Svijany i Plzeňský Prazdroj.\n",
                "\n",
                "9\\. Vypište jména piv, které čepuje pouze jedna hospoda.\n",
                "\n",
                "10\\. Vypište jména piv, které neodebírají hospody s názvem Formanka.\n",
                "\n",
                "11\\. Vypište názvy hospod, které nečepují piva se jménem 'Pilsner Urquell'.\n",
                "\n",
                "12\\. Vypište pro jednotlivé hospody taková jména piv, z jejichž prodeje má hospoda maximální zisk (hospoda, pivo, zisk). POZOR: Název hospody není unikátní! Piv s maximálním ziskem (prodejni\\_cena – kupni\\_cena) může být v hospodě více!\n",
                "\n",
                "13\\. Vypište pro jednotlivá odebíraná piva takové hospody, které z jejich prodeje mají největší zisk (pivo, hospoda, zisk). POZOR: Název piva není unikátní! Hospod s maximálním ziskem z daného piva (prodejni\\_cena – kupni\\_cena) může být více!\n",
                "\n",
                "14\\. Vypište názvy pivovarů a u každého uveďte počet hospod, které od nich odebírají pivo (nazev, pocet). Do výpisu zahrňte i ty pivovary, od nichž neodebírá pivo žádná hospoda (0 nebo NULL ve výpisu).\n",
                "\n",
                "15\\. Vypište názvy hospod a u každé uveďte počet pivovarů, které do nich dodávají pivo (nazev, pocet). Do výpisu zahrňte i ty hospody, které pivo nečepují (0 nebo NULL ve výpisu).\n",
                "\n",
                "16\\. Vypište průměrné prodejní ceny piv v libereckých hospodách (adresa LIKE '%Liberec%'), které čepují alespoň 2 různá piva (nazev, prumerna\\_cena). POZOR: Název hospody není unikátní!\n",
                "\n",
                "17\\. Vypište průměrné kupní ceny piv v libereckých hospodách (adresa LIKE '%Liberec%'), které jsou dodávány alespoň do 2 různých hospod (jmeno, prumerna\\_cena). POZOR: Jméno piva není unikátní!\n",
                "\n",
                "18\\. Vypište názvy hospod, ve kterých čepují jedno a více piv od pivovaru Svijany. POZOR: Název hospody není unikátní!\n",
                "\n",
                "19\\. Vypište názvy hospod, kde nečepují pivo Pilsner Urquell, ale čepují jakékoli pivo od pivovaru Svijany.\n",
                "\n",
                "20\\. Vypište názvy piv, která nečepují v hospodě U Medvěda, ale čepují v hospodě U Kalicha."
            ],
            "metadata": {
                "language": "sql",
                "azdata_cell_guid": "9982dbe2-0e92-407b-a5a4-71f14b96b250"
            },
            "attachments": {}
        },
        {
            "cell_type": "markdown",
            "source": [
                "1\\. Vypište názvy hospod, které neodebírají žádné pivo od pivovaru Svijany. Do výsledku zahrňte i hospody, které vůbec neodebírají pivo."
            ],
            "metadata": {
                "language": "sql",
                "azdata_cell_guid": "8f1ba477-9569-438e-9903-fe38c8b0cfb6"
            },
            "attachments": {}
        },
        {
            "cell_type": "code",
            "source": [
                "SELECT h.nazev FROM Hospoda h\n",
                "    LEFT JOIN Odebira o ON h.id_hospoda = o.id_hospoda\n",
                "    LEFT JOIN Pivo p ON o.id_pivo = p.id_pivo\n",
                "    WHERE (o.id_pivo IS NULL OR p.id_pivovar != (\n",
                "        SELECT id_pivovar FROM Pivovar WHERE nazev = 'Svijany')\n",
                "    );"
            ],
            "metadata": {
                "azdata_cell_guid": "8433e754-6420-4238-b50a-13ed98984319",
                "language": "sql",
                "tags": []
            },
            "outputs": [
                {
                    "output_type": "display_data",
                    "data": {
                        "text/html": "(7 rows affected)"
                    },
                    "metadata": {}
                },
                {
                    "output_type": "display_data",
                    "data": {
                        "text/html": "Total execution time: 00:00:00.019"
                    },
                    "metadata": {}
                },
                {
                    "output_type": "execute_result",
                    "metadata": {},
                    "execution_count": 9,
                    "data": {
                        "application/vnd.dataresource+json": {
                            "schema": {
                                "fields": [
                                    {
                                        "name": "nazev"
                                    }
                                ]
                            },
                            "data": [
                                {
                                    "nazev": "Formanka"
                                },
                                {
                                    "nazev": "Formanka"
                                },
                                {
                                    "nazev": "U Medv?da"
                                },
                                {
                                    "nazev": "U Tet?eva"
                                },
                                {
                                    "nazev": "??zk?rna Kopretina"
                                },
                                {
                                    "nazev": "Assen"
                                },
                                {
                                    "nazev": "Assen"
                                }
                            ]
                        },
                        "text/html": [
                            "<table>",
                            "<tr><th>nazev</th></tr>",
                            "<tr><td>Formanka</td></tr>",
                            "<tr><td>Formanka</td></tr>",
                            "<tr><td>U Medv?da</td></tr>",
                            "<tr><td>U Tet?eva</td></tr>",
                            "<tr><td>??zk?rna Kopretina</td></tr>",
                            "<tr><td>Assen</td></tr>",
                            "<tr><td>Assen</td></tr>",
                            "</table>"
                        ]
                    }
                }
            ],
            "execution_count": 9
        },
        {
            "cell_type": "markdown",
            "source": [
                "2\\. Vypište názvy pivovarů, které nedodávají pivo do žádné hospody s názvem Formanka."
            ],
            "metadata": {
                "language": "sql",
                "azdata_cell_guid": "e024ae2f-64b9-4395-9696-e59b93e8fc76"
            },
            "attachments": {}
        },
        {
            "cell_type": "code",
            "source": [
                "SELECT pivovar.nazev FROM Pivovar\n",
                "    LEFT JOIN Pivo ON Pivovar.id_pivovar = Pivo.id_pivovar\n",
                "    LEFT JOIN Odebira ON Pivo.id_pivo = Odebira.id_pivo\n",
                "    LEFT JOIN Hospoda ON Odebira.id_hospoda = Hospoda.id_hospoda\n",
                "    WHERE Hospoda.nazev != 'Formanka' OR Hospoda.nazev IS NULL;\n",
                ""
            ],
            "metadata": {
                "language": "sql",
                "azdata_cell_guid": "b0d5ddd6-0b1c-4fd2-bc81-02b6c04f7677"
            },
            "outputs": [
                {
                    "output_type": "display_data",
                    "data": {
                        "text/html": "(16 rows affected)"
                    },
                    "metadata": {}
                },
                {
                    "output_type": "display_data",
                    "data": {
                        "text/html": "Total execution time: 00:00:00.014"
                    },
                    "metadata": {}
                },
                {
                    "output_type": "execute_result",
                    "metadata": {},
                    "execution_count": 10,
                    "data": {
                        "application/vnd.dataresource+json": {
                            "schema": {
                                "fields": [
                                    {
                                        "name": "nazev"
                                    }
                                ]
                            },
                            "data": [
                                {
                                    "nazev": "Bud?jovick? Budvar"
                                },
                                {
                                    "nazev": "Bud?jovick? Budvar"
                                },
                                {
                                    "nazev": "Plze?sk? Prazdroj"
                                },
                                {
                                    "nazev": "Plze?sk? Prazdroj"
                                },
                                {
                                    "nazev": "Plze?sk? Prazdroj"
                                },
                                {
                                    "nazev": "Plze?sk? Prazdroj"
                                },
                                {
                                    "nazev": "Staropramen"
                                },
                                {
                                    "nazev": "Svijany"
                                },
                                {
                                    "nazev": "Svijany"
                                },
                                {
                                    "nazev": "Svijany"
                                },
                                {
                                    "nazev": "Svijany"
                                },
                                {
                                    "nazev": "Svijany"
                                },
                                {
                                    "nazev": "Svijany"
                                },
                                {
                                    "nazev": "Svijany"
                                },
                                {
                                    "nazev": "Svijany"
                                },
                                {
                                    "nazev": "Svijany"
                                }
                            ]
                        },
                        "text/html": [
                            "<table>",
                            "<tr><th>nazev</th></tr>",
                            "<tr><td>Bud?jovick? Budvar</td></tr>",
                            "<tr><td>Bud?jovick? Budvar</td></tr>",
                            "<tr><td>Plze?sk? Prazdroj</td></tr>",
                            "<tr><td>Plze?sk? Prazdroj</td></tr>",
                            "<tr><td>Plze?sk? Prazdroj</td></tr>",
                            "<tr><td>Plze?sk? Prazdroj</td></tr>",
                            "<tr><td>Staropramen</td></tr>",
                            "<tr><td>Svijany</td></tr>",
                            "<tr><td>Svijany</td></tr>",
                            "<tr><td>Svijany</td></tr>",
                            "<tr><td>Svijany</td></tr>",
                            "<tr><td>Svijany</td></tr>",
                            "<tr><td>Svijany</td></tr>",
                            "<tr><td>Svijany</td></tr>",
                            "<tr><td>Svijany</td></tr>",
                            "<tr><td>Svijany</td></tr>",
                            "</table>"
                        ]
                    }
                }
            ],
            "execution_count": 10
        }
    ]
}